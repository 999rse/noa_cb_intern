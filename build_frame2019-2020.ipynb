{
 "cells": [
  {
   "cell_type": "code",
   "execution_count": 1,
   "metadata": {},
   "outputs": [],
   "source": [
    "#%load_ext cudf.pandas"
   ]
  },
  {
   "cell_type": "markdown",
   "metadata": {},
   "source": [
    "### merge 2020 year frame\n"
   ]
  },
  {
   "cell_type": "code",
   "execution_count": 2,
   "metadata": {},
   "outputs": [],
   "source": [
    "import os\n",
    "import pandas as pd"
   ]
  },
  {
   "cell_type": "code",
   "execution_count": 3,
   "metadata": {},
   "outputs": [],
   "source": [
    "df1 = pd.read_excel('./data3/es/2020_new_base.xlsx')\n",
    "df2 = pd.read_excel('./data3/es/2020_old_base.xlsx')"
   ]
  },
  {
   "cell_type": "code",
   "execution_count": 4,
   "metadata": {},
   "outputs": [
    {
     "data": {
      "text/plain": [
       "array([ True,  True,  True,  True,  True,  True,  True,  True,  True,\n",
       "        True,  True])"
      ]
     },
     "execution_count": 4,
     "metadata": {},
     "output_type": "execute_result"
    }
   ],
   "source": [
    "df1.columns==df2.columns\n"
   ]
  },
  {
   "cell_type": "code",
   "execution_count": 5,
   "metadata": {},
   "outputs": [
    {
     "data": {
      "text/html": [
       "<div>\n",
       "<style scoped>\n",
       "    .dataframe tbody tr th:only-of-type {\n",
       "        vertical-align: middle;\n",
       "    }\n",
       "\n",
       "    .dataframe tbody tr th {\n",
       "        vertical-align: top;\n",
       "    }\n",
       "\n",
       "    .dataframe thead th {\n",
       "        text-align: right;\n",
       "    }\n",
       "</style>\n",
       "<table border=\"1\" class=\"dataframe\">\n",
       "  <thead>\n",
       "    <tr style=\"text-align: right;\">\n",
       "      <th></th>\n",
       "      <th>smeta</th>\n",
       "      <th>distr</th>\n",
       "      <th>code</th>\n",
       "      <th>code_discription</th>\n",
       "      <th>address_raw</th>\n",
       "      <th>cost</th>\n",
       "      <th>full_date</th>\n",
       "      <th>data_short</th>\n",
       "      <th>es_code_int</th>\n",
       "      <th>address_clean</th>\n",
       "      <th>test</th>\n",
       "    </tr>\n",
       "  </thead>\n",
       "  <tbody>\n",
       "  </tbody>\n",
       "</table>\n",
       "</div>"
      ],
      "text/plain": [
       "Empty DataFrame\n",
       "Columns: [smeta, distr, code, code_discription, address_raw, cost, full_date, data_short, es_code_int, address_clean, test]\n",
       "Index: []"
      ]
     },
     "execution_count": 5,
     "metadata": {},
     "output_type": "execute_result"
    }
   ],
   "source": [
    "common_rows = pd.merge(df2, df1, how='inner')\n",
    "common_rows"
   ]
  },
  {
   "cell_type": "code",
   "execution_count": 6,
   "metadata": {},
   "outputs": [
    {
     "data": {
      "text/html": [
       "<div>\n",
       "<style scoped>\n",
       "    .dataframe tbody tr th:only-of-type {\n",
       "        vertical-align: middle;\n",
       "    }\n",
       "\n",
       "    .dataframe tbody tr th {\n",
       "        vertical-align: top;\n",
       "    }\n",
       "\n",
       "    .dataframe thead th {\n",
       "        text-align: right;\n",
       "    }\n",
       "</style>\n",
       "<table border=\"1\" class=\"dataframe\">\n",
       "  <thead>\n",
       "    <tr style=\"text-align: right;\">\n",
       "      <th></th>\n",
       "      <th>smeta</th>\n",
       "      <th>distr</th>\n",
       "      <th>code</th>\n",
       "      <th>code_discription</th>\n",
       "      <th>address_raw</th>\n",
       "      <th>cost</th>\n",
       "      <th>full_date</th>\n",
       "      <th>data_short</th>\n",
       "      <th>es_code_int</th>\n",
       "      <th>address_clean</th>\n",
       "      <th>test</th>\n",
       "    </tr>\n",
       "  </thead>\n",
       "  <tbody>\n",
       "    <tr>\n",
       "      <th>0</th>\n",
       "      <td>Хозяйственно-эксплуатационное направление ДГУ</td>\n",
       "      <td>Дальневосточное главное управление Центральног...</td>\n",
       "      <td>134.11</td>\n",
       "      <td>Расходы по оплате потребления электроэнергии</td>\n",
       "      <td>134.1100.010000 Плата за технологическое присо...</td>\n",
       "      <td>32790.96</td>\n",
       "      <td>2020-12-31</td>\n",
       "      <td>12.202</td>\n",
       "      <td>1</td>\n",
       "      <td>00.010000  г. владивосток ул. калинина,261</td>\n",
       "      <td>владивосток калинина 261</td>\n",
       "    </tr>\n",
       "    <tr>\n",
       "      <th>1</th>\n",
       "      <td>Хозяйственно-эксплуатационное направление ДГУ</td>\n",
       "      <td>Дальневосточное главное управление Центральног...</td>\n",
       "      <td>134.11</td>\n",
       "      <td>Расходы по оплате потребления электроэнергии</td>\n",
       "      <td>Оплата за электроэнергию по тарифам зд. Вл-Але...</td>\n",
       "      <td>2274.13</td>\n",
       "      <td>2020-12-31</td>\n",
       "      <td>12.202</td>\n",
       "      <td>1</td>\n",
       "      <td>ю  зд. вл-александровское, ул. седова, 23</td>\n",
       "      <td>александровское седова 23</td>\n",
       "    </tr>\n",
       "    <tr>\n",
       "      <th>2</th>\n",
       "      <td>Хозяйственно-эксплуатационное направление ДГУ</td>\n",
       "      <td>Дальневосточное главное управление Центральног...</td>\n",
       "      <td>134.11</td>\n",
       "      <td>Расходы по оплате потребления электроэнергии</td>\n",
       "      <td>Оплата за электроэнергию по тарифам зд. ул.Све...</td>\n",
       "      <td>238482.63</td>\n",
       "      <td>2020-12-31</td>\n",
       "      <td>12.202</td>\n",
       "      <td>1</td>\n",
       "      <td>ю  зд. ул.светланская,111</td>\n",
       "      <td>светланская 111</td>\n",
       "    </tr>\n",
       "    <tr>\n",
       "      <th>3</th>\n",
       "      <td>Хозяйственно-эксплуатационное направление ДГУ</td>\n",
       "      <td>Дальневосточное главное управление Центральног...</td>\n",
       "      <td>134.11</td>\n",
       "      <td>Расходы по оплате потребления электроэнергии</td>\n",
       "      <td>Оплата за электроэнергию по тарифам зд. г.Нахо...</td>\n",
       "      <td>614813.95</td>\n",
       "      <td>2020-12-31</td>\n",
       "      <td>12.202</td>\n",
       "      <td>1</td>\n",
       "      <td>ю  зд. г.находка, находкинский пр-т, 13</td>\n",
       "      <td>находка находкинский 13</td>\n",
       "    </tr>\n",
       "    <tr>\n",
       "      <th>4</th>\n",
       "      <td>Хозяйственно-эксплуатационное направление ДГУ</td>\n",
       "      <td>Дальневосточное главное управление Центральног...</td>\n",
       "      <td>134.11</td>\n",
       "      <td>Расходы по оплате потребления электроэнергии</td>\n",
       "      <td>Оплата за электроэнергию по тарифам зд. Склад ...</td>\n",
       "      <td>22413.58</td>\n",
       "      <td>2020-12-31</td>\n",
       "      <td>12.202</td>\n",
       "      <td>1</td>\n",
       "      <td>ю  зд. склад ул.фонтанная,19</td>\n",
       "      <td>склад фонтанная 19</td>\n",
       "    </tr>\n",
       "    <tr>\n",
       "      <th>...</th>\n",
       "      <td>...</td>\n",
       "      <td>...</td>\n",
       "      <td>...</td>\n",
       "      <td>...</td>\n",
       "      <td>...</td>\n",
       "      <td>...</td>\n",
       "      <td>...</td>\n",
       "      <td>...</td>\n",
       "      <td>...</td>\n",
       "      <td>...</td>\n",
       "      <td>...</td>\n",
       "    </tr>\n",
       "    <tr>\n",
       "      <th>2938</th>\n",
       "      <td>Столовая Отделения по Хабаровскому краю Дальне...</td>\n",
       "      <td>Отделение по Хабаровскому краю Дальневосточног...</td>\n",
       "      <td>134.11</td>\n",
       "      <td>Расходы по оплате услуг водоснабжения, водоотв...</td>\n",
       "      <td>Оплата за холодное водоснабжение по тарифам, у...</td>\n",
       "      <td>226.73</td>\n",
       "      <td>2020-04-14</td>\n",
       "      <td>4.202</td>\n",
       "      <td>3</td>\n",
       "      <td>, ул. муравьева-амурского, 42</td>\n",
       "      <td>амурского 42</td>\n",
       "    </tr>\n",
       "    <tr>\n",
       "      <th>2939</th>\n",
       "      <td>Столовая Отделения по Хабаровскому краю Дальне...</td>\n",
       "      <td>Отделение по Хабаровскому краю Дальневосточног...</td>\n",
       "      <td>134.11</td>\n",
       "      <td>Расходы по оплате услуг водоснабжения, водоотв...</td>\n",
       "      <td>Оплата за холодное водоснабжение по тарифам, у...</td>\n",
       "      <td>87.79</td>\n",
       "      <td>2020-10-08</td>\n",
       "      <td>10.202</td>\n",
       "      <td>3</td>\n",
       "      <td>, ул. муравьева-амурского, 42</td>\n",
       "      <td>амурского 42</td>\n",
       "    </tr>\n",
       "    <tr>\n",
       "      <th>2940</th>\n",
       "      <td>Столовая Отделения по Хабаровскому краю Дальне...</td>\n",
       "      <td>Отделение по Хабаровскому краю Дальневосточног...</td>\n",
       "      <td>134.11</td>\n",
       "      <td>Расходы по оплате услуг водоснабжения, водоотв...</td>\n",
       "      <td>Оплата за холодное водоснабжение по тарифам, у...</td>\n",
       "      <td>186.56</td>\n",
       "      <td>2020-10-13</td>\n",
       "      <td>10.202</td>\n",
       "      <td>3</td>\n",
       "      <td>, ул. муравьева-амурского, 42</td>\n",
       "      <td>амурского 42</td>\n",
       "    </tr>\n",
       "    <tr>\n",
       "      <th>2941</th>\n",
       "      <td>Столовая Отделения по Хабаровскому краю Дальне...</td>\n",
       "      <td>Отделение по Хабаровскому краю Дальневосточног...</td>\n",
       "      <td>134.11</td>\n",
       "      <td>Расходы по оплате услуг водоснабжения, водоотв...</td>\n",
       "      <td>Оплата за холодное водоснабжение по тарифам, у...</td>\n",
       "      <td>175.58</td>\n",
       "      <td>2020-10-11</td>\n",
       "      <td>10.202</td>\n",
       "      <td>3</td>\n",
       "      <td>, ул. муравьева-амурского, 42</td>\n",
       "      <td>амурского 42</td>\n",
       "    </tr>\n",
       "    <tr>\n",
       "      <th>2942</th>\n",
       "      <td>Столовая Отделения по Хабаровскому краю Дальне...</td>\n",
       "      <td>Отделение по Хабаровскому краю Дальневосточног...</td>\n",
       "      <td>134.11</td>\n",
       "      <td>Расходы по оплате услуг водоснабжения, водоотв...</td>\n",
       "      <td>Оплата за холодное водоснабжение по тарифам, у...</td>\n",
       "      <td>129.49</td>\n",
       "      <td>2020-09-12</td>\n",
       "      <td>9.202</td>\n",
       "      <td>3</td>\n",
       "      <td>, ул. муравьева-амурского, 42</td>\n",
       "      <td>амурского 42</td>\n",
       "    </tr>\n",
       "  </tbody>\n",
       "</table>\n",
       "<p>2943 rows × 11 columns</p>\n",
       "</div>"
      ],
      "text/plain": [
       "                                                  smeta  \\\n",
       "0         Хозяйственно-эксплуатационное направление ДГУ   \n",
       "1         Хозяйственно-эксплуатационное направление ДГУ   \n",
       "2         Хозяйственно-эксплуатационное направление ДГУ   \n",
       "3         Хозяйственно-эксплуатационное направление ДГУ   \n",
       "4         Хозяйственно-эксплуатационное направление ДГУ   \n",
       "...                                                 ...   \n",
       "2938  Столовая Отделения по Хабаровскому краю Дальне...   \n",
       "2939  Столовая Отделения по Хабаровскому краю Дальне...   \n",
       "2940  Столовая Отделения по Хабаровскому краю Дальне...   \n",
       "2941  Столовая Отделения по Хабаровскому краю Дальне...   \n",
       "2942  Столовая Отделения по Хабаровскому краю Дальне...   \n",
       "\n",
       "                                                  distr    code  \\\n",
       "0     Дальневосточное главное управление Центральног...  134.11   \n",
       "1     Дальневосточное главное управление Центральног...  134.11   \n",
       "2     Дальневосточное главное управление Центральног...  134.11   \n",
       "3     Дальневосточное главное управление Центральног...  134.11   \n",
       "4     Дальневосточное главное управление Центральног...  134.11   \n",
       "...                                                 ...     ...   \n",
       "2938  Отделение по Хабаровскому краю Дальневосточног...  134.11   \n",
       "2939  Отделение по Хабаровскому краю Дальневосточног...  134.11   \n",
       "2940  Отделение по Хабаровскому краю Дальневосточног...  134.11   \n",
       "2941  Отделение по Хабаровскому краю Дальневосточног...  134.11   \n",
       "2942  Отделение по Хабаровскому краю Дальневосточног...  134.11   \n",
       "\n",
       "                                       code_discription  \\\n",
       "0          Расходы по оплате потребления электроэнергии   \n",
       "1          Расходы по оплате потребления электроэнергии   \n",
       "2          Расходы по оплате потребления электроэнергии   \n",
       "3          Расходы по оплате потребления электроэнергии   \n",
       "4          Расходы по оплате потребления электроэнергии   \n",
       "...                                                 ...   \n",
       "2938  Расходы по оплате услуг водоснабжения, водоотв...   \n",
       "2939  Расходы по оплате услуг водоснабжения, водоотв...   \n",
       "2940  Расходы по оплате услуг водоснабжения, водоотв...   \n",
       "2941  Расходы по оплате услуг водоснабжения, водоотв...   \n",
       "2942  Расходы по оплате услуг водоснабжения, водоотв...   \n",
       "\n",
       "                                            address_raw       cost  full_date  \\\n",
       "0     134.1100.010000 Плата за технологическое присо...   32790.96 2020-12-31   \n",
       "1     Оплата за электроэнергию по тарифам зд. Вл-Але...    2274.13 2020-12-31   \n",
       "2     Оплата за электроэнергию по тарифам зд. ул.Све...  238482.63 2020-12-31   \n",
       "3     Оплата за электроэнергию по тарифам зд. г.Нахо...  614813.95 2020-12-31   \n",
       "4     Оплата за электроэнергию по тарифам зд. Склад ...   22413.58 2020-12-31   \n",
       "...                                                 ...        ...        ...   \n",
       "2938  Оплата за холодное водоснабжение по тарифам, у...     226.73 2020-04-14   \n",
       "2939  Оплата за холодное водоснабжение по тарифам, у...      87.79 2020-10-08   \n",
       "2940  Оплата за холодное водоснабжение по тарифам, у...     186.56 2020-10-13   \n",
       "2941  Оплата за холодное водоснабжение по тарифам, у...     175.58 2020-10-11   \n",
       "2942  Оплата за холодное водоснабжение по тарифам, у...     129.49 2020-09-12   \n",
       "\n",
       "      data_short  es_code_int                               address_clean  \\\n",
       "0         12.202            1  00.010000  г. владивосток ул. калинина,261   \n",
       "1         12.202            1   ю  зд. вл-александровское, ул. седова, 23   \n",
       "2         12.202            1                   ю  зд. ул.светланская,111   \n",
       "3         12.202            1     ю  зд. г.находка, находкинский пр-т, 13   \n",
       "4         12.202            1                ю  зд. склад ул.фонтанная,19   \n",
       "...          ...          ...                                         ...   \n",
       "2938       4.202            3               , ул. муравьева-амурского, 42   \n",
       "2939      10.202            3               , ул. муравьева-амурского, 42   \n",
       "2940      10.202            3               , ул. муравьева-амурского, 42   \n",
       "2941      10.202            3               , ул. муравьева-амурского, 42   \n",
       "2942       9.202            3               , ул. муравьева-амурского, 42   \n",
       "\n",
       "                           test  \n",
       "0      владивосток калинина 261  \n",
       "1     александровское седова 23  \n",
       "2               светланская 111  \n",
       "3       находка находкинский 13  \n",
       "4            склад фонтанная 19  \n",
       "...                         ...  \n",
       "2938               амурского 42  \n",
       "2939               амурского 42  \n",
       "2940               амурского 42  \n",
       "2941               амурского 42  \n",
       "2942               амурского 42  \n",
       "\n",
       "[2943 rows x 11 columns]"
      ]
     },
     "execution_count": 6,
     "metadata": {},
     "output_type": "execute_result"
    }
   ],
   "source": [
    "df3 = pd.concat([df1, df2],ignore_index=True)\n",
    "df3"
   ]
  },
  {
   "cell_type": "code",
   "execution_count": 7,
   "metadata": {},
   "outputs": [],
   "source": [
    "df3.to_excel('./data3/es/2020.xlsx', index=False)"
   ]
  },
  {
   "cell_type": "markdown",
   "metadata": {},
   "source": [
    "### read data"
   ]
  },
  {
   "cell_type": "code",
   "execution_count": 8,
   "metadata": {},
   "outputs": [],
   "source": [
    "df2018 = pd.read_excel('./data3/es/2018.xlsx')\n",
    "df2019 = pd.read_excel('./data3/es/2019.xlsx')\n",
    "df2020 = pd.read_excel('./data3/es/2020.xlsx')\n",
    "df2021 = pd.read_excel('./data3/es/2021.xlsx')\n",
    "\n",
    "df2022_23 = pd.read_csv('./data3/predict/test_data.csv')"
   ]
  },
  {
   "cell_type": "code",
   "execution_count": 9,
   "metadata": {},
   "outputs": [
    {
     "name": "stdout",
     "output_type": "stream",
     "text": [
      "(3501, 11)\n",
      "(3093, 11)\n",
      "(2943, 11)\n",
      "(3124, 11)\n",
      "12661\n"
     ]
    }
   ],
   "source": [
    "print(df2018.shape)\n",
    "print(df2019.shape)\n",
    "print(df2020.shape)\n",
    "print(df2021.shape)\n",
    "print(df2018.shape[0]+df2019.shape[0]+df2020.shape[0]+df2021.shape[0])"
   ]
  },
  {
   "cell_type": "markdown",
   "metadata": {},
   "source": [
    "### Data for training description\n",
    "Модель будет построена для предсказания значений в следующем году на основе полных данных за предыдущий год\n",
    "\n",
    "Т.е:\n",
    "\n",
    "Так как даные TR есть только начиная с 2018 года, решено отказаться от даных ранее 2018.\n",
    "Тренировочные датасеты строятся следующим образом:\n",
    "\n",
    "2018 -predict-> 2019\n",
    "\n",
    "2019 -predict-> 2020\n",
    "\n",
    "2020 -predict-> 2021"
   ]
  },
  {
   "cell_type": "code",
   "execution_count": 10,
   "metadata": {},
   "outputs": [],
   "source": [
    "df2022_23_col = df2022_23.columns "
   ]
  },
  {
   "cell_type": "code",
   "execution_count": 11,
   "metadata": {},
   "outputs": [
    {
     "data": {
      "text/plain": [
       "Index(['smeta', 'distr', 'code', 'code_discription', 'address_raw', 'cost',\n",
       "       'full_date', 'data_short', 'es_code_int', 'address_clean', 'test'],\n",
       "      dtype='object')"
      ]
     },
     "execution_count": 11,
     "metadata": {},
     "output_type": "execute_result"
    }
   ],
   "source": [
    "df2018.columns"
   ]
  },
  {
   "cell_type": "code",
   "execution_count": 12,
   "metadata": {},
   "outputs": [],
   "source": [
    "df2022_23.columns = ['code_discription', 'address_raw', 'data_short', 'cost']\n",
    "df2022_23['test']=None"
   ]
  },
  {
   "cell_type": "code",
   "execution_count": 13,
   "metadata": {},
   "outputs": [],
   "source": [
    "def check_same_values(col_name):\n",
    "    print(\"check column: \", col_name)\n",
    "    df2022_23_addr = df2022_23[col_name].unique()\n",
    "    df2021_addr = df2021[col_name].unique()\n",
    "    df2020_addr = df2020[col_name].unique()\n",
    "    df2019_addr = df2019[col_name].unique()\n",
    "    df2018_addr = df2018[col_name].unique()\n",
    "    print(\"unique names:\")\n",
    "    print(\"2022_23: \",len(df2022_23_addr))    \n",
    "    print(\"2021: \",len(df2021_addr))\n",
    "    print(\"2020: \",len(df2020_addr))\n",
    "    print(\"2019: \",len(df2019_addr))\n",
    "    print(\"2018: \",len(df2018_addr))\n",
    "    print(\"unique names cross\")\n",
    "    print(\"2018 vs 2019 \",len(list(set(df2018_addr) & set(df2019_addr))))\n",
    "    print(\"2019 vs 2020 \",len(list(set(df2019_addr) & set(df2020_addr))))\n",
    "    print(\"2020 vs 2021 \",len(list(set(df2020_addr) & set(df2021_addr))))\n",
    "    print(\"2022-23 vs 2021 \",len(list(set(df2022_23_addr) & set(df2021_addr))))\n",
    "    print(\"2022-23 vs 2020 \",len(list(set(df2022_23_addr) & set(df2020_addr))))\n",
    "    print(\"2022-23 vs 2019 \",len(list(set(df2022_23_addr) & set(df2019_addr))))\n",
    "    print(\"2022-23 vs 2018 \",len(list(set(df2022_23_addr) & set(df2018_addr))))\n"
   ]
  },
  {
   "cell_type": "code",
   "execution_count": 14,
   "metadata": {},
   "outputs": [
    {
     "name": "stdout",
     "output_type": "stream",
     "text": [
      "check column:  code_discription\n",
      "unique names:\n",
      "2022_23:  5\n",
      "2021:  5\n",
      "2020:  5\n",
      "2019:  1\n",
      "2018:  1\n",
      "unique names cross\n",
      "2018 vs 2019  1\n",
      "2019 vs 2020  0\n",
      "2020 vs 2021  0\n",
      "2022-23 vs 2021  1\n",
      "2022-23 vs 2020  0\n",
      "2022-23 vs 2019  0\n",
      "2022-23 vs 2018  0\n"
     ]
    }
   ],
   "source": [
    "check_same_values('code_discription')"
   ]
  },
  {
   "cell_type": "code",
   "execution_count": 15,
   "metadata": {},
   "outputs": [
    {
     "name": "stdout",
     "output_type": "stream",
     "text": [
      "check column:  address_raw\n",
      "unique names:\n",
      "2022_23:  451\n",
      "2021:  422\n",
      "2020:  249\n",
      "2019:  292\n",
      "2018:  330\n",
      "unique names cross\n",
      "2018 vs 2019  271\n",
      "2019 vs 2020  2\n",
      "2020 vs 2021  0\n",
      "2022-23 vs 2021  41\n",
      "2022-23 vs 2020  0\n",
      "2022-23 vs 2019  0\n",
      "2022-23 vs 2018  0\n"
     ]
    }
   ],
   "source": [
    "check_same_values('address_raw')"
   ]
  },
  {
   "cell_type": "code",
   "execution_count": 16,
   "metadata": {},
   "outputs": [
    {
     "name": "stdout",
     "output_type": "stream",
     "text": [
      "check column:  test\n",
      "unique names:\n",
      "2022_23:  1\n",
      "2021:  97\n",
      "2020:  73\n",
      "2019:  85\n",
      "2018:  101\n",
      "unique names cross\n",
      "2018 vs 2019  80\n",
      "2019 vs 2020  48\n",
      "2020 vs 2021  28\n",
      "2022-23 vs 2021  0\n",
      "2022-23 vs 2020  0\n",
      "2022-23 vs 2019  0\n",
      "2022-23 vs 2018  0\n"
     ]
    }
   ],
   "source": [
    "check_same_values('test')"
   ]
  },
  {
   "cell_type": "code",
   "execution_count": 17,
   "metadata": {},
   "outputs": [
    {
     "data": {
      "text/plain": [
       "array(['Электроэнергия', 'Отопление', 'Водоснабжение',\n",
       "       'Коммунальные услуги (расходы прошлых лет)', 'Газ'], dtype=object)"
      ]
     },
     "execution_count": 17,
     "metadata": {},
     "output_type": "execute_result"
    }
   ],
   "source": [
    "df2022_23['code_discription'].unique()"
   ]
  },
  {
   "cell_type": "code",
   "execution_count": 18,
   "metadata": {},
   "outputs": [],
   "source": [
    "all_es_types = {1:['Электроэнергия','Оплата потребления электроэнергии','Расходы по оплате потребления электроэнергии','Оплата за дизельное топливо','Оплата за электроэнергию по тарифам','Оплата за эектроэнергию по тарифам','Плата за технологическое присоединение к электрическим сетям (в случаях, не связанным со строительством,реконстр. и кап.ремонтом'],\n",
    "            2:['Отопление','Оплата всех видов отопления зданий и сооружений (кроме электро- и газового снабжения)','Расходы по оплате всех видов отопления зданий и сооружений (кроме электро- и газового снабжения)','Оплата за тепловую энергию по тарифам','Оплата за прочие виды топлиа (уголь, дрова и т.д.)'],\n",
    "            3:['Водоснабжение','Оплата услуг водоснабжения, водоотведения','Расходы по оплате услуг водоснабжения, водоотведения','Оплата за водоотведение по тарифам','Оплата за горячее водоснабжение по тарифам','Оплата за холодное водоснабжение по тарифам', 'Оплата за холодное водоснабжение  по тарифам','Оплата за горячее  водоснабжение по тарифам','Оплата водоотведения по тарифам'],\n",
    "            4:['Коммунальные услуги (расходы прошлых лет)','Коммунальные услуги (расходы прошлых лет)','Расходы на коммунальные услуги (расходы прошлых лет)','Другие расходы прошлых лет, выявленные в текущем году.','Другие расходы прошлых лет, выявленные в текущем году.'],\n",
    "            5:['Газ','Оплата потребления газа','Расходы по оплате потребления газа','Оплата потребления газа по тарифам']}\n",
    "\n",
    "def get_type_of_es(row):\n",
    "    values_to_check = row[['code_discription', 'address_raw']]\n",
    "    for key, values in all_es_types.items():\n",
    "        if any(value.lower() in ' '.join(values_to_check.values).lower() for value in values):\n",
    "            return key\n",
    "    return None\n",
    "\n",
    "#Usage: df['es_code_int'] = df.apply(get_type_of_es, axis=1)"
   ]
  },
  {
   "cell_type": "code",
   "execution_count": 19,
   "metadata": {},
   "outputs": [],
   "source": [
    "df2022_23['es_code_int'] = df2022_23.apply(get_type_of_es, axis=1)"
   ]
  },
  {
   "cell_type": "code",
   "execution_count": 20,
   "metadata": {},
   "outputs": [
    {
     "data": {
      "text/plain": [
       "array(['Оплата потребления электроэнергии',\n",
       "       'Оплата всех видов отопления зданий и сооружений (кроме электро- и газового снабжения)',\n",
       "       'Оплата услуг водоснабжения, водоотведения',\n",
       "       'Коммунальные услуги (расходы прошлых лет)',\n",
       "       'Оплата потребления газа'], dtype=object)"
      ]
     },
     "execution_count": 20,
     "metadata": {},
     "output_type": "execute_result"
    }
   ],
   "source": [
    "df2021['code_discription'].unique()\n"
   ]
  },
  {
   "cell_type": "code",
   "execution_count": 21,
   "metadata": {},
   "outputs": [
    {
     "data": {
      "text/plain": [
       "array(['Расходы по оплате потребления электроэнергии',\n",
       "       'Расходы по оплате всех видов отопления зданий и сооружений (кроме электро- и газового снабжения)',\n",
       "       'Расходы по оплате услуг водоснабжения, водоотведения',\n",
       "       'Расходы на коммунальные услуги (расходы прошлых лет)',\n",
       "       'Расходы по оплате потребления газа'], dtype=object)"
      ]
     },
     "execution_count": 21,
     "metadata": {},
     "output_type": "execute_result"
    }
   ],
   "source": [
    "df2020['code_discription'].unique()"
   ]
  },
  {
   "cell_type": "code",
   "execution_count": 22,
   "metadata": {},
   "outputs": [],
   "source": [
    "for i in df2018['address_raw']:\n",
    "    if not ('Оплата за водоотведение по тарифам' in i or 'топливо ' in i or 'Оплата за горячее водоснабжение по тарифам' in i or 'Оплата за тепловую энергию по тарифам' in i or 'Оплата за холодное водоснабжение по тарифам'in i or 'Оплата за электроэнергию по тарифам'in i or 'Оплата за холодное водоснабжение  по тарифам' in i or 'Оплата за горячее  водоснабжение по тарифам' in i or 'Оплата за эектроэнергию по тарифам'in i\n",
    "            or 'Оплата водоотведения по тарифам'in i or 'Другие расходы прошлых лет, выявленные в текущем году.' in i or 'Оплата потребления газа по тарифам'in i or 'Плата за технологическое присоединение к электрическим сетям (в случаях, не связанным со строительством,реконстр. и кап.ремонтом' in i or 'Оплата за прочие виды топлиа (уголь, дрова и т.д.)' in i):\n",
    "        print(i)\n",
    "\n",
    "for i in df2019['address_raw']:\n",
    "    if not ('Оплата за водоотведение по тарифам' in i or 'топливо ' in i or 'Оплата за горячее водоснабжение по тарифам' in i or 'Оплата за тепловую энергию по тарифам' in i or 'Оплата за холодное водоснабжение по тарифам'in i or 'Оплата за электроэнергию по тарифам'in i or 'Оплата за холодное водоснабжение  по тарифам' in i or 'Оплата за горячее  водоснабжение по тарифам' in i or 'Оплата за эектроэнергию по тарифам'in i\n",
    "            or 'Оплата водоотведения по тарифам'in i or 'Другие расходы прошлых лет, выявленные в текущем году.' in i or 'Оплата потребления газа по тарифам'in i or 'Плата за технологическое присоединение к электрическим сетям (в случаях, не связанным со строительством,реконстр. и кап.ремонтом' in i or 'Оплата за прочие виды топлиа (уголь, дрова и т.д.)' in i):\n",
    "        print(i)\n",
    "       "
   ]
  },
  {
   "cell_type": "code",
   "execution_count": 23,
   "metadata": {},
   "outputs": [
    {
     "data": {
      "text/plain": [
       "array(['Электроэнергия', 'Отопление', 'Водоснабжение',\n",
       "       'Коммунальные услуги (расходы прошлых лет)', 'Газ'], dtype=object)"
      ]
     },
     "execution_count": 23,
     "metadata": {},
     "output_type": "execute_result"
    }
   ],
   "source": [
    "df2022_23.code_discription.unique()"
   ]
  },
  {
   "cell_type": "code",
   "execution_count": 24,
   "metadata": {},
   "outputs": [
    {
     "name": "stdout",
     "output_type": "stream",
     "text": [
      "check column:  address_raw\n",
      "unique names:\n",
      "2022_23:  451\n",
      "2021:  422\n",
      "2020:  249\n",
      "2019:  292\n",
      "2018:  330\n",
      "unique names cross\n",
      "2018 vs 2019  271\n",
      "2019 vs 2020  2\n",
      "2020 vs 2021  0\n",
      "2022-23 vs 2021  41\n",
      "2022-23 vs 2020  0\n",
      "2022-23 vs 2019  0\n",
      "2022-23 vs 2018  0\n"
     ]
    }
   ],
   "source": [
    "check_same_values('address_raw')"
   ]
  },
  {
   "cell_type": "code",
   "execution_count": 25,
   "metadata": {},
   "outputs": [
    {
     "name": "stdout",
     "output_type": "stream",
     "text": [
      "check column:  es_code_int\n",
      "unique names:\n",
      "2022_23:  5\n",
      "2021:  5\n",
      "2020:  5\n",
      "2019:  5\n",
      "2018:  4\n",
      "unique names cross\n",
      "2018 vs 2019  4\n",
      "2019 vs 2020  5\n",
      "2020 vs 2021  5\n",
      "2022-23 vs 2021  5\n",
      "2022-23 vs 2020  5\n",
      "2022-23 vs 2019  5\n",
      "2022-23 vs 2018  4\n"
     ]
    }
   ],
   "source": [
    "check_same_values('es_code_int')"
   ]
  },
  {
   "cell_type": "markdown",
   "metadata": {},
   "source": [
    "### prep functions"
   ]
  },
  {
   "cell_type": "code",
   "execution_count": 26,
   "metadata": {},
   "outputs": [],
   "source": [
    "#append clean addr\n",
    "import re\n",
    "def to_lower(listin):\n",
    "    return [str(element).lower() for element in listin]\n",
    "\n",
    "citys = pd.read_excel('./extra/np-dvfo.xlsx', header=None)[0].to_list()\n",
    "streets = pd.read_excel('./extra/names-dvfo.xlsx', header=None)[0].to_list()\n",
    "numbers = [str(i) for i in range(1, 1000)]\n",
    "citys = to_lower(citys)\n",
    "streets = to_lower(streets)\n",
    "numbers = to_lower(numbers)\n",
    "\n",
    "def clean_address(df, addr_col, new_addr_col):\n",
    "    df[addr_col] = df[addr_col].str.lower()\n",
    "    df[new_addr_col]=df[addr_col]\n",
    "    df[new_addr_col] = df[new_addr_col].apply(lambda x: re.sub(r'[^\\w\\s]', ' ', x))\n",
    "    df[new_addr_col] = df[new_addr_col].apply(lambda x: ' '.join(word for word in x.split() if word in citys or word in streets or word in numbers))\n",
    "    return df"
   ]
  },
  {
   "cell_type": "code",
   "execution_count": 27,
   "metadata": {},
   "outputs": [],
   "source": [
    "#fuzzy compare address\n",
    "from collections import Counter\n",
    "from thefuzz import fuzz\n",
    "\n",
    "def count_same_digits(array1, array2):\n",
    "    if (len(array1)+len(array2))<2:\n",
    "        return 0\n",
    "    counter1 = Counter(array1)\n",
    "    counter2 = Counter(array2)\n",
    "    # Find the intersection considering duplicates\n",
    "    common_elements = counter1 & counter2\n",
    "\n",
    "    # Calculate the total count of common elements considering duplicates\n",
    "    count_of_common_elements = sum(common_elements.values())\n",
    "    #print(count_of_common_elements, len(array1), len(array2))\n",
    "    \n",
    "    return 2*count_of_common_elements/(len(array1)+len(array2))\n",
    "\n",
    "def spec_match(str1, str2):\n",
    "    digits_str1 = [int(d) for d in re.findall(r'\\d+', str1)]\n",
    "    digits_str2 = [int(d) for d in re.findall(r'\\d+', str2)]\n",
    "    dist = fuzz.WRatio(re.sub(r'\\d', '', str1), re.sub(r'\\d', '', str2))\n",
    "    return dist*count_same_digits(digits_str1, digits_str2)/100.0"
   ]
  },
  {
   "cell_type": "markdown",
   "metadata": {},
   "source": [
    "### append data"
   ]
  },
  {
   "cell_type": "code",
   "execution_count": 28,
   "metadata": {},
   "outputs": [
    {
     "data": {
      "text/plain": [
       "{'оплата за тепловую энергию по тарифам зд. ул.светланская,73а - ст.134.1100',\n",
       " 'оплата за тепловую энергию по тарифам зд. ул.фонтанная, 19 - ст.134.1100'}"
      ]
     },
     "execution_count": 28,
     "metadata": {},
     "output_type": "execute_result"
    }
   ],
   "source": [
    "df = df2020[['code_discription', 'address_raw', 'data_short', 'cost']].copy()\n",
    "df2 = df2019.copy()\n",
    "df['address_raw'] = df['address_raw'].str.lower()\n",
    "df2['address_raw'] = df2['address_raw'].str.lower()\n",
    "set(df['address_raw'])&set(df2['address_raw'])"
   ]
  },
  {
   "cell_type": "code",
   "execution_count": 29,
   "metadata": {},
   "outputs": [
    {
     "data": {
      "text/html": [
       "<div>\n",
       "<style scoped>\n",
       "    .dataframe tbody tr th:only-of-type {\n",
       "        vertical-align: middle;\n",
       "    }\n",
       "\n",
       "    .dataframe tbody tr th {\n",
       "        vertical-align: top;\n",
       "    }\n",
       "\n",
       "    .dataframe thead th {\n",
       "        text-align: right;\n",
       "    }\n",
       "</style>\n",
       "<table border=\"1\" class=\"dataframe\">\n",
       "  <thead>\n",
       "    <tr style=\"text-align: right;\">\n",
       "      <th></th>\n",
       "      <th>code_discription</th>\n",
       "      <th>address_raw</th>\n",
       "      <th>data_short</th>\n",
       "      <th>cost</th>\n",
       "    </tr>\n",
       "  </thead>\n",
       "  <tbody>\n",
       "    <tr>\n",
       "      <th>0</th>\n",
       "      <td>Расходы по оплате потребления электроэнергии</td>\n",
       "      <td>134.1100.010000 плата за технологическое присо...</td>\n",
       "      <td>12.202</td>\n",
       "      <td>32790.96</td>\n",
       "    </tr>\n",
       "    <tr>\n",
       "      <th>1</th>\n",
       "      <td>Расходы по оплате потребления электроэнергии</td>\n",
       "      <td>оплата за электроэнергию по тарифам зд. вл-але...</td>\n",
       "      <td>12.202</td>\n",
       "      <td>2274.13</td>\n",
       "    </tr>\n",
       "    <tr>\n",
       "      <th>2</th>\n",
       "      <td>Расходы по оплате потребления электроэнергии</td>\n",
       "      <td>оплата за электроэнергию по тарифам зд. ул.све...</td>\n",
       "      <td>12.202</td>\n",
       "      <td>238482.63</td>\n",
       "    </tr>\n",
       "    <tr>\n",
       "      <th>3</th>\n",
       "      <td>Расходы по оплате потребления электроэнергии</td>\n",
       "      <td>оплата за электроэнергию по тарифам зд. г.нахо...</td>\n",
       "      <td>12.202</td>\n",
       "      <td>614813.95</td>\n",
       "    </tr>\n",
       "    <tr>\n",
       "      <th>4</th>\n",
       "      <td>Расходы по оплате потребления электроэнергии</td>\n",
       "      <td>оплата за электроэнергию по тарифам зд. склад ...</td>\n",
       "      <td>12.202</td>\n",
       "      <td>22413.58</td>\n",
       "    </tr>\n",
       "    <tr>\n",
       "      <th>...</th>\n",
       "      <td>...</td>\n",
       "      <td>...</td>\n",
       "      <td>...</td>\n",
       "      <td>...</td>\n",
       "    </tr>\n",
       "    <tr>\n",
       "      <th>2938</th>\n",
       "      <td>Расходы по оплате услуг водоснабжения, водоотв...</td>\n",
       "      <td>оплата за холодное водоснабжение по тарифам, у...</td>\n",
       "      <td>4.202</td>\n",
       "      <td>226.73</td>\n",
       "    </tr>\n",
       "    <tr>\n",
       "      <th>2939</th>\n",
       "      <td>Расходы по оплате услуг водоснабжения, водоотв...</td>\n",
       "      <td>оплата за холодное водоснабжение по тарифам, у...</td>\n",
       "      <td>10.202</td>\n",
       "      <td>87.79</td>\n",
       "    </tr>\n",
       "    <tr>\n",
       "      <th>2940</th>\n",
       "      <td>Расходы по оплате услуг водоснабжения, водоотв...</td>\n",
       "      <td>оплата за холодное водоснабжение по тарифам, у...</td>\n",
       "      <td>10.202</td>\n",
       "      <td>186.56</td>\n",
       "    </tr>\n",
       "    <tr>\n",
       "      <th>2941</th>\n",
       "      <td>Расходы по оплате услуг водоснабжения, водоотв...</td>\n",
       "      <td>оплата за холодное водоснабжение по тарифам, у...</td>\n",
       "      <td>10.202</td>\n",
       "      <td>175.58</td>\n",
       "    </tr>\n",
       "    <tr>\n",
       "      <th>2942</th>\n",
       "      <td>Расходы по оплате услуг водоснабжения, водоотв...</td>\n",
       "      <td>оплата за холодное водоснабжение по тарифам, у...</td>\n",
       "      <td>9.202</td>\n",
       "      <td>129.49</td>\n",
       "    </tr>\n",
       "  </tbody>\n",
       "</table>\n",
       "<p>2943 rows × 4 columns</p>\n",
       "</div>"
      ],
      "text/plain": [
       "                                       code_discription  \\\n",
       "0          Расходы по оплате потребления электроэнергии   \n",
       "1          Расходы по оплате потребления электроэнергии   \n",
       "2          Расходы по оплате потребления электроэнергии   \n",
       "3          Расходы по оплате потребления электроэнергии   \n",
       "4          Расходы по оплате потребления электроэнергии   \n",
       "...                                                 ...   \n",
       "2938  Расходы по оплате услуг водоснабжения, водоотв...   \n",
       "2939  Расходы по оплате услуг водоснабжения, водоотв...   \n",
       "2940  Расходы по оплате услуг водоснабжения, водоотв...   \n",
       "2941  Расходы по оплате услуг водоснабжения, водоотв...   \n",
       "2942  Расходы по оплате услуг водоснабжения, водоотв...   \n",
       "\n",
       "                                            address_raw  data_short       cost  \n",
       "0     134.1100.010000 плата за технологическое присо...      12.202   32790.96  \n",
       "1     оплата за электроэнергию по тарифам зд. вл-але...      12.202    2274.13  \n",
       "2     оплата за электроэнергию по тарифам зд. ул.све...      12.202  238482.63  \n",
       "3     оплата за электроэнергию по тарифам зд. г.нахо...      12.202  614813.95  \n",
       "4     оплата за электроэнергию по тарифам зд. склад ...      12.202   22413.58  \n",
       "...                                                 ...         ...        ...  \n",
       "2938  оплата за холодное водоснабжение по тарифам, у...       4.202     226.73  \n",
       "2939  оплата за холодное водоснабжение по тарифам, у...      10.202      87.79  \n",
       "2940  оплата за холодное водоснабжение по тарифам, у...      10.202     186.56  \n",
       "2941  оплата за холодное водоснабжение по тарифам, у...      10.202     175.58  \n",
       "2942  оплата за холодное водоснабжение по тарифам, у...       9.202     129.49  \n",
       "\n",
       "[2943 rows x 4 columns]"
      ]
     },
     "execution_count": 29,
     "metadata": {},
     "output_type": "execute_result"
    }
   ],
   "source": [
    "df"
   ]
  },
  {
   "cell_type": "code",
   "execution_count": 30,
   "metadata": {},
   "outputs": [
    {
     "data": {
      "text/html": [
       "<div>\n",
       "<style scoped>\n",
       "    .dataframe tbody tr th:only-of-type {\n",
       "        vertical-align: middle;\n",
       "    }\n",
       "\n",
       "    .dataframe tbody tr th {\n",
       "        vertical-align: top;\n",
       "    }\n",
       "\n",
       "    .dataframe thead th {\n",
       "        text-align: right;\n",
       "    }\n",
       "</style>\n",
       "<table border=\"1\" class=\"dataframe\">\n",
       "  <thead>\n",
       "    <tr style=\"text-align: right;\">\n",
       "      <th></th>\n",
       "      <th>smeta</th>\n",
       "      <th>distr</th>\n",
       "      <th>code</th>\n",
       "      <th>code_discription</th>\n",
       "      <th>address_raw</th>\n",
       "      <th>cost</th>\n",
       "      <th>full_date</th>\n",
       "      <th>data_short</th>\n",
       "      <th>es_code_int</th>\n",
       "      <th>address_clean</th>\n",
       "      <th>test</th>\n",
       "      <th>month</th>\n",
       "      <th>year</th>\n",
       "    </tr>\n",
       "  </thead>\n",
       "  <tbody>\n",
       "    <tr>\n",
       "      <th>0</th>\n",
       "      <td>Общежитие Дальневосточного ГУ Банка России г. ...</td>\n",
       "      <td>Дальневосточное главное управление Центральног...</td>\n",
       "      <td>134.11</td>\n",
       "      <td>Расходы на коммунальные услуги</td>\n",
       "      <td>оплата за водоотведение по тарифам зд. ул.верх...</td>\n",
       "      <td>663.40</td>\n",
       "      <td>2019-10-01</td>\n",
       "      <td>2019-10-01</td>\n",
       "      <td>3</td>\n",
       "      <td>зд. ул.верхнепортовая, 44 - 00</td>\n",
       "      <td>верхнепортовая 44</td>\n",
       "      <td>10</td>\n",
       "      <td>2019</td>\n",
       "    </tr>\n",
       "    <tr>\n",
       "      <th>1</th>\n",
       "      <td>Общежитие Дальневосточного ГУ Банка России г. ...</td>\n",
       "      <td>Дальневосточное главное управление Центральног...</td>\n",
       "      <td>134.11</td>\n",
       "      <td>Расходы на коммунальные услуги</td>\n",
       "      <td>оплата за водоотведение по тарифам зд. ул.верх...</td>\n",
       "      <td>11.97</td>\n",
       "      <td>2019-01-14</td>\n",
       "      <td>2019-01-01</td>\n",
       "      <td>3</td>\n",
       "      <td>зд. ул.верхнепортовая, 44 - 00</td>\n",
       "      <td>верхнепортовая 44</td>\n",
       "      <td>1</td>\n",
       "      <td>2019</td>\n",
       "    </tr>\n",
       "    <tr>\n",
       "      <th>2</th>\n",
       "      <td>Общежитие Дальневосточного ГУ Банка России г. ...</td>\n",
       "      <td>Дальневосточное главное управление Центральног...</td>\n",
       "      <td>134.11</td>\n",
       "      <td>Расходы на коммунальные услуги</td>\n",
       "      <td>оплата за водоотведение по тарифам зд. ул.верх...</td>\n",
       "      <td>12.17</td>\n",
       "      <td>2019-07-02</td>\n",
       "      <td>2019-07-01</td>\n",
       "      <td>3</td>\n",
       "      <td>зд. ул.верхнепортовая, 44 - 00</td>\n",
       "      <td>верхнепортовая 44</td>\n",
       "      <td>7</td>\n",
       "      <td>2019</td>\n",
       "    </tr>\n",
       "    <tr>\n",
       "      <th>3</th>\n",
       "      <td>Общежитие Дальневосточного ГУ Банка России г. ...</td>\n",
       "      <td>Дальневосточное главное управление Центральног...</td>\n",
       "      <td>134.11</td>\n",
       "      <td>Расходы на коммунальные услуги</td>\n",
       "      <td>оплата за водоотведение по тарифам зд. ул.верх...</td>\n",
       "      <td>488.15</td>\n",
       "      <td>2019-08-02</td>\n",
       "      <td>2019-08-01</td>\n",
       "      <td>3</td>\n",
       "      <td>зд. ул.верхнепортовая, 44 - 00</td>\n",
       "      <td>верхнепортовая 44</td>\n",
       "      <td>8</td>\n",
       "      <td>2019</td>\n",
       "    </tr>\n",
       "    <tr>\n",
       "      <th>4</th>\n",
       "      <td>Общежитие Дальневосточного ГУ Банка России г. ...</td>\n",
       "      <td>Дальневосточное главное управление Центральног...</td>\n",
       "      <td>134.11</td>\n",
       "      <td>Расходы на коммунальные услуги</td>\n",
       "      <td>оплата за водоотведение по тарифам зд. ул.верх...</td>\n",
       "      <td>413.05</td>\n",
       "      <td>2019-07-03</td>\n",
       "      <td>2019-07-01</td>\n",
       "      <td>3</td>\n",
       "      <td>зд. ул.верхнепортовая, 44 - 00</td>\n",
       "      <td>верхнепортовая 44</td>\n",
       "      <td>7</td>\n",
       "      <td>2019</td>\n",
       "    </tr>\n",
       "    <tr>\n",
       "      <th>...</th>\n",
       "      <td>...</td>\n",
       "      <td>...</td>\n",
       "      <td>...</td>\n",
       "      <td>...</td>\n",
       "      <td>...</td>\n",
       "      <td>...</td>\n",
       "      <td>...</td>\n",
       "      <td>...</td>\n",
       "      <td>...</td>\n",
       "      <td>...</td>\n",
       "      <td>...</td>\n",
       "      <td>...</td>\n",
       "      <td>...</td>\n",
       "    </tr>\n",
       "    <tr>\n",
       "      <th>3088</th>\n",
       "      <td>Хозяйственно-эксплуатационное направление Якутия</td>\n",
       "      <td>Отделение - Национальный банк по Республике Са...</td>\n",
       "      <td>134.11</td>\n",
       "      <td>Расходы на коммунальные услуги</td>\n",
       "      <td>оплата потребления газа по тарифам зд. ул.киро...</td>\n",
       "      <td>609.08</td>\n",
       "      <td>2019-09-18</td>\n",
       "      <td>2019-09-01</td>\n",
       "      <td>5</td>\n",
       "      <td>зд. ул.кирова,17 - 00</td>\n",
       "      <td>кирова 17</td>\n",
       "      <td>9</td>\n",
       "      <td>2019</td>\n",
       "    </tr>\n",
       "    <tr>\n",
       "      <th>3089</th>\n",
       "      <td>Хозяйственно-эксплуатационное направление Якутия</td>\n",
       "      <td>Отделение - Национальный банк по Республике Са...</td>\n",
       "      <td>134.11</td>\n",
       "      <td>Расходы на коммунальные услуги</td>\n",
       "      <td>оплата потребления газа по тарифам зд. ул.киро...</td>\n",
       "      <td>26503.15</td>\n",
       "      <td>2019-10-14</td>\n",
       "      <td>2019-10-01</td>\n",
       "      <td>5</td>\n",
       "      <td>зд. ул.кирова,17 - 00</td>\n",
       "      <td>кирова 17</td>\n",
       "      <td>10</td>\n",
       "      <td>2019</td>\n",
       "    </tr>\n",
       "    <tr>\n",
       "      <th>3090</th>\n",
       "      <td>Хозяйственно-эксплуатационное направление Якутия</td>\n",
       "      <td>Отделение - Национальный банк по Республике Са...</td>\n",
       "      <td>134.11</td>\n",
       "      <td>Расходы на коммунальные услуги</td>\n",
       "      <td>оплата потребления газа по тарифам зд. ул.киро...</td>\n",
       "      <td>59959.81</td>\n",
       "      <td>2019-12-11</td>\n",
       "      <td>2019-12-01</td>\n",
       "      <td>5</td>\n",
       "      <td>зд. ул.кирова,17 - 00</td>\n",
       "      <td>кирова 17</td>\n",
       "      <td>12</td>\n",
       "      <td>2019</td>\n",
       "    </tr>\n",
       "    <tr>\n",
       "      <th>3091</th>\n",
       "      <td>Хозяйственно-эксплуатационное направление Якутия</td>\n",
       "      <td>Отделение - Национальный банк по Республике Са...</td>\n",
       "      <td>134.11</td>\n",
       "      <td>Расходы на коммунальные услуги</td>\n",
       "      <td>оплата потребления газа по тарифам зд. ул.киро...</td>\n",
       "      <td>105621.11</td>\n",
       "      <td>2019-12-16</td>\n",
       "      <td>2019-12-01</td>\n",
       "      <td>5</td>\n",
       "      <td>зд. ул.кирова,17 - 00</td>\n",
       "      <td>кирова 17</td>\n",
       "      <td>12</td>\n",
       "      <td>2019</td>\n",
       "    </tr>\n",
       "    <tr>\n",
       "      <th>3092</th>\n",
       "      <td>Хозяйственно-эксплуатационное направление Якутия</td>\n",
       "      <td>Отделение - Национальный банк по Республике Са...</td>\n",
       "      <td>134.11</td>\n",
       "      <td>Расходы на коммунальные услуги</td>\n",
       "      <td>плата за технологическое присоединение к элект...</td>\n",
       "      <td>4198.52</td>\n",
       "      <td>2019-05-12</td>\n",
       "      <td>2019-05-01</td>\n",
       "      <td>1</td>\n",
       "      <td>(в случаях, не связанным со строительством,ре...</td>\n",
       "      <td>в не и ленск</td>\n",
       "      <td>5</td>\n",
       "      <td>2019</td>\n",
       "    </tr>\n",
       "  </tbody>\n",
       "</table>\n",
       "<p>3093 rows × 13 columns</p>\n",
       "</div>"
      ],
      "text/plain": [
       "                                                  smeta  \\\n",
       "0     Общежитие Дальневосточного ГУ Банка России г. ...   \n",
       "1     Общежитие Дальневосточного ГУ Банка России г. ...   \n",
       "2     Общежитие Дальневосточного ГУ Банка России г. ...   \n",
       "3     Общежитие Дальневосточного ГУ Банка России г. ...   \n",
       "4     Общежитие Дальневосточного ГУ Банка России г. ...   \n",
       "...                                                 ...   \n",
       "3088   Хозяйственно-эксплуатационное направление Якутия   \n",
       "3089   Хозяйственно-эксплуатационное направление Якутия   \n",
       "3090   Хозяйственно-эксплуатационное направление Якутия   \n",
       "3091   Хозяйственно-эксплуатационное направление Якутия   \n",
       "3092   Хозяйственно-эксплуатационное направление Якутия   \n",
       "\n",
       "                                                  distr    code  \\\n",
       "0     Дальневосточное главное управление Центральног...  134.11   \n",
       "1     Дальневосточное главное управление Центральног...  134.11   \n",
       "2     Дальневосточное главное управление Центральног...  134.11   \n",
       "3     Дальневосточное главное управление Центральног...  134.11   \n",
       "4     Дальневосточное главное управление Центральног...  134.11   \n",
       "...                                                 ...     ...   \n",
       "3088  Отделение - Национальный банк по Республике Са...  134.11   \n",
       "3089  Отделение - Национальный банк по Республике Са...  134.11   \n",
       "3090  Отделение - Национальный банк по Республике Са...  134.11   \n",
       "3091  Отделение - Национальный банк по Республике Са...  134.11   \n",
       "3092  Отделение - Национальный банк по Республике Са...  134.11   \n",
       "\n",
       "                    code_discription  \\\n",
       "0     Расходы на коммунальные услуги   \n",
       "1     Расходы на коммунальные услуги   \n",
       "2     Расходы на коммунальные услуги   \n",
       "3     Расходы на коммунальные услуги   \n",
       "4     Расходы на коммунальные услуги   \n",
       "...                              ...   \n",
       "3088  Расходы на коммунальные услуги   \n",
       "3089  Расходы на коммунальные услуги   \n",
       "3090  Расходы на коммунальные услуги   \n",
       "3091  Расходы на коммунальные услуги   \n",
       "3092  Расходы на коммунальные услуги   \n",
       "\n",
       "                                            address_raw       cost  full_date  \\\n",
       "0     оплата за водоотведение по тарифам зд. ул.верх...     663.40 2019-10-01   \n",
       "1     оплата за водоотведение по тарифам зд. ул.верх...      11.97 2019-01-14   \n",
       "2     оплата за водоотведение по тарифам зд. ул.верх...      12.17 2019-07-02   \n",
       "3     оплата за водоотведение по тарифам зд. ул.верх...     488.15 2019-08-02   \n",
       "4     оплата за водоотведение по тарифам зд. ул.верх...     413.05 2019-07-03   \n",
       "...                                                 ...        ...        ...   \n",
       "3088  оплата потребления газа по тарифам зд. ул.киро...     609.08 2019-09-18   \n",
       "3089  оплата потребления газа по тарифам зд. ул.киро...   26503.15 2019-10-14   \n",
       "3090  оплата потребления газа по тарифам зд. ул.киро...   59959.81 2019-12-11   \n",
       "3091  оплата потребления газа по тарифам зд. ул.киро...  105621.11 2019-12-16   \n",
       "3092  плата за технологическое присоединение к элект...    4198.52 2019-05-12   \n",
       "\n",
       "     data_short  es_code_int  \\\n",
       "0    2019-10-01            3   \n",
       "1    2019-01-01            3   \n",
       "2    2019-07-01            3   \n",
       "3    2019-08-01            3   \n",
       "4    2019-07-01            3   \n",
       "...         ...          ...   \n",
       "3088 2019-09-01            5   \n",
       "3089 2019-10-01            5   \n",
       "3090 2019-12-01            5   \n",
       "3091 2019-12-01            5   \n",
       "3092 2019-05-01            1   \n",
       "\n",
       "                                          address_clean               test  \\\n",
       "0                        зд. ул.верхнепортовая, 44 - 00  верхнепортовая 44   \n",
       "1                        зд. ул.верхнепортовая, 44 - 00  верхнепортовая 44   \n",
       "2                        зд. ул.верхнепортовая, 44 - 00  верхнепортовая 44   \n",
       "3                        зд. ул.верхнепортовая, 44 - 00  верхнепортовая 44   \n",
       "4                        зд. ул.верхнепортовая, 44 - 00  верхнепортовая 44   \n",
       "...                                                 ...                ...   \n",
       "3088                              зд. ул.кирова,17 - 00          кирова 17   \n",
       "3089                              зд. ул.кирова,17 - 00          кирова 17   \n",
       "3090                              зд. ул.кирова,17 - 00          кирова 17   \n",
       "3091                              зд. ул.кирова,17 - 00          кирова 17   \n",
       "3092   (в случаях, не связанным со строительством,ре...       в не и ленск   \n",
       "\n",
       "      month  year  \n",
       "0        10  2019  \n",
       "1         1  2019  \n",
       "2         7  2019  \n",
       "3         8  2019  \n",
       "4         7  2019  \n",
       "...     ...   ...  \n",
       "3088      9  2019  \n",
       "3089     10  2019  \n",
       "3090     12  2019  \n",
       "3091     12  2019  \n",
       "3092      5  2019  \n",
       "\n",
       "[3093 rows x 13 columns]"
      ]
     },
     "execution_count": 30,
     "metadata": {},
     "output_type": "execute_result"
    }
   ],
   "source": [
    "df2['data_short'] = df2['data_short'].astype(str)\n",
    "df2['data_short'] = pd.to_datetime('01.' + df2['data_short'], format='%d.%m.%Y')\n",
    "\n",
    "# Создаем столбец 'month'\n",
    "df2['month'] = df2['data_short'].dt.month\n",
    "\n",
    "# Создаем столбец 'year'\n",
    "df2['year'] = df2['data_short'].dt.year\n",
    "\n",
    "df2"
   ]
  },
  {
   "cell_type": "code",
   "execution_count": 31,
   "metadata": {},
   "outputs": [],
   "source": [
    "df['es_code_int'] = df.apply(get_type_of_es, axis=1)"
   ]
  },
  {
   "cell_type": "code",
   "execution_count": 32,
   "metadata": {},
   "outputs": [],
   "source": [
    "df = clean_address(df, 'address_raw', 'test')"
   ]
  },
  {
   "cell_type": "code",
   "execution_count": 33,
   "metadata": {},
   "outputs": [
    {
     "data": {
      "text/html": [
       "<div>\n",
       "<style scoped>\n",
       "    .dataframe tbody tr th:only-of-type {\n",
       "        vertical-align: middle;\n",
       "    }\n",
       "\n",
       "    .dataframe tbody tr th {\n",
       "        vertical-align: top;\n",
       "    }\n",
       "\n",
       "    .dataframe thead th {\n",
       "        text-align: right;\n",
       "    }\n",
       "</style>\n",
       "<table border=\"1\" class=\"dataframe\">\n",
       "  <thead>\n",
       "    <tr style=\"text-align: right;\">\n",
       "      <th></th>\n",
       "      <th>code_discription</th>\n",
       "      <th>address_raw</th>\n",
       "      <th>data_short</th>\n",
       "      <th>cost</th>\n",
       "      <th>es_code_int</th>\n",
       "      <th>test</th>\n",
       "      <th>month</th>\n",
       "      <th>year</th>\n",
       "    </tr>\n",
       "  </thead>\n",
       "  <tbody>\n",
       "    <tr>\n",
       "      <th>0</th>\n",
       "      <td>Расходы по оплате потребления электроэнергии</td>\n",
       "      <td>134.1100.010000 плата за технологическое присо...</td>\n",
       "      <td>2020-12-01</td>\n",
       "      <td>32790.96</td>\n",
       "      <td>1</td>\n",
       "      <td>134 за к владивосток калинина 261</td>\n",
       "      <td>12</td>\n",
       "      <td>2020</td>\n",
       "    </tr>\n",
       "    <tr>\n",
       "      <th>1</th>\n",
       "      <td>Расходы по оплате потребления электроэнергии</td>\n",
       "      <td>оплата за электроэнергию по тарифам зд. вл-але...</td>\n",
       "      <td>2020-12-01</td>\n",
       "      <td>2274.13</td>\n",
       "      <td>1</td>\n",
       "      <td>за по александровское седова 23</td>\n",
       "      <td>12</td>\n",
       "      <td>2020</td>\n",
       "    </tr>\n",
       "    <tr>\n",
       "      <th>2</th>\n",
       "      <td>Расходы по оплате потребления электроэнергии</td>\n",
       "      <td>оплата за электроэнергию по тарифам зд. ул.све...</td>\n",
       "      <td>2020-12-01</td>\n",
       "      <td>238482.63</td>\n",
       "      <td>1</td>\n",
       "      <td>за по светланская 111</td>\n",
       "      <td>12</td>\n",
       "      <td>2020</td>\n",
       "    </tr>\n",
       "    <tr>\n",
       "      <th>3</th>\n",
       "      <td>Расходы по оплате потребления электроэнергии</td>\n",
       "      <td>оплата за электроэнергию по тарифам зд. г.нахо...</td>\n",
       "      <td>2020-12-01</td>\n",
       "      <td>614813.95</td>\n",
       "      <td>1</td>\n",
       "      <td>за по находка находкинский 13</td>\n",
       "      <td>12</td>\n",
       "      <td>2020</td>\n",
       "    </tr>\n",
       "    <tr>\n",
       "      <th>4</th>\n",
       "      <td>Расходы по оплате потребления электроэнергии</td>\n",
       "      <td>оплата за электроэнергию по тарифам зд. склад ...</td>\n",
       "      <td>2020-12-01</td>\n",
       "      <td>22413.58</td>\n",
       "      <td>1</td>\n",
       "      <td>за по склад фонтанная 19</td>\n",
       "      <td>12</td>\n",
       "      <td>2020</td>\n",
       "    </tr>\n",
       "    <tr>\n",
       "      <th>...</th>\n",
       "      <td>...</td>\n",
       "      <td>...</td>\n",
       "      <td>...</td>\n",
       "      <td>...</td>\n",
       "      <td>...</td>\n",
       "      <td>...</td>\n",
       "      <td>...</td>\n",
       "      <td>...</td>\n",
       "    </tr>\n",
       "    <tr>\n",
       "      <th>2938</th>\n",
       "      <td>Расходы по оплате услуг водоснабжения, водоотв...</td>\n",
       "      <td>оплата за холодное водоснабжение по тарифам, у...</td>\n",
       "      <td>2020-04-01</td>\n",
       "      <td>226.73</td>\n",
       "      <td>3</td>\n",
       "      <td>за холодное по амурского 42</td>\n",
       "      <td>4</td>\n",
       "      <td>2020</td>\n",
       "    </tr>\n",
       "    <tr>\n",
       "      <th>2939</th>\n",
       "      <td>Расходы по оплате услуг водоснабжения, водоотв...</td>\n",
       "      <td>оплата за холодное водоснабжение по тарифам, у...</td>\n",
       "      <td>2020-10-01</td>\n",
       "      <td>87.79</td>\n",
       "      <td>3</td>\n",
       "      <td>за холодное по амурского 42</td>\n",
       "      <td>10</td>\n",
       "      <td>2020</td>\n",
       "    </tr>\n",
       "    <tr>\n",
       "      <th>2940</th>\n",
       "      <td>Расходы по оплате услуг водоснабжения, водоотв...</td>\n",
       "      <td>оплата за холодное водоснабжение по тарифам, у...</td>\n",
       "      <td>2020-10-01</td>\n",
       "      <td>186.56</td>\n",
       "      <td>3</td>\n",
       "      <td>за холодное по амурского 42</td>\n",
       "      <td>10</td>\n",
       "      <td>2020</td>\n",
       "    </tr>\n",
       "    <tr>\n",
       "      <th>2941</th>\n",
       "      <td>Расходы по оплате услуг водоснабжения, водоотв...</td>\n",
       "      <td>оплата за холодное водоснабжение по тарифам, у...</td>\n",
       "      <td>2020-10-01</td>\n",
       "      <td>175.58</td>\n",
       "      <td>3</td>\n",
       "      <td>за холодное по амурского 42</td>\n",
       "      <td>10</td>\n",
       "      <td>2020</td>\n",
       "    </tr>\n",
       "    <tr>\n",
       "      <th>2942</th>\n",
       "      <td>Расходы по оплате услуг водоснабжения, водоотв...</td>\n",
       "      <td>оплата за холодное водоснабжение по тарифам, у...</td>\n",
       "      <td>2020-09-01</td>\n",
       "      <td>129.49</td>\n",
       "      <td>3</td>\n",
       "      <td>за холодное по амурского 42</td>\n",
       "      <td>9</td>\n",
       "      <td>2020</td>\n",
       "    </tr>\n",
       "  </tbody>\n",
       "</table>\n",
       "<p>2943 rows × 8 columns</p>\n",
       "</div>"
      ],
      "text/plain": [
       "                                       code_discription  \\\n",
       "0          Расходы по оплате потребления электроэнергии   \n",
       "1          Расходы по оплате потребления электроэнергии   \n",
       "2          Расходы по оплате потребления электроэнергии   \n",
       "3          Расходы по оплате потребления электроэнергии   \n",
       "4          Расходы по оплате потребления электроэнергии   \n",
       "...                                                 ...   \n",
       "2938  Расходы по оплате услуг водоснабжения, водоотв...   \n",
       "2939  Расходы по оплате услуг водоснабжения, водоотв...   \n",
       "2940  Расходы по оплате услуг водоснабжения, водоотв...   \n",
       "2941  Расходы по оплате услуг водоснабжения, водоотв...   \n",
       "2942  Расходы по оплате услуг водоснабжения, водоотв...   \n",
       "\n",
       "                                            address_raw data_short       cost  \\\n",
       "0     134.1100.010000 плата за технологическое присо... 2020-12-01   32790.96   \n",
       "1     оплата за электроэнергию по тарифам зд. вл-але... 2020-12-01    2274.13   \n",
       "2     оплата за электроэнергию по тарифам зд. ул.све... 2020-12-01  238482.63   \n",
       "3     оплата за электроэнергию по тарифам зд. г.нахо... 2020-12-01  614813.95   \n",
       "4     оплата за электроэнергию по тарифам зд. склад ... 2020-12-01   22413.58   \n",
       "...                                                 ...        ...        ...   \n",
       "2938  оплата за холодное водоснабжение по тарифам, у... 2020-04-01     226.73   \n",
       "2939  оплата за холодное водоснабжение по тарифам, у... 2020-10-01      87.79   \n",
       "2940  оплата за холодное водоснабжение по тарифам, у... 2020-10-01     186.56   \n",
       "2941  оплата за холодное водоснабжение по тарифам, у... 2020-10-01     175.58   \n",
       "2942  оплата за холодное водоснабжение по тарифам, у... 2020-09-01     129.49   \n",
       "\n",
       "      es_code_int                               test  month  year  \n",
       "0               1  134 за к владивосток калинина 261     12  2020  \n",
       "1               1    за по александровское седова 23     12  2020  \n",
       "2               1              за по светланская 111     12  2020  \n",
       "3               1      за по находка находкинский 13     12  2020  \n",
       "4               1           за по склад фонтанная 19     12  2020  \n",
       "...           ...                                ...    ...   ...  \n",
       "2938            3        за холодное по амурского 42      4  2020  \n",
       "2939            3        за холодное по амурского 42     10  2020  \n",
       "2940            3        за холодное по амурского 42     10  2020  \n",
       "2941            3        за холодное по амурского 42     10  2020  \n",
       "2942            3        за холодное по амурского 42      9  2020  \n",
       "\n",
       "[2943 rows x 8 columns]"
      ]
     },
     "execution_count": 33,
     "metadata": {},
     "output_type": "execute_result"
    }
   ],
   "source": [
    "df['data_short']=df['data_short'].astype(str)\n",
    "df['data_short'] = pd.to_datetime('01.' + df['data_short']+'0', format='%d.%m.%Y')\n",
    "# Создаем столбец 'month'\n",
    "df['month'] = df['data_short'].dt.month\n",
    "\n",
    "# Создаем столбец 'year'\n",
    "df['year'] = df['data_short'].dt.year\n",
    "df"
   ]
  },
  {
   "cell_type": "code",
   "execution_count": 34,
   "metadata": {},
   "outputs": [
    {
     "data": {
      "text/plain": [
       "0       12\n",
       "1       12\n",
       "2       12\n",
       "3       12\n",
       "4       12\n",
       "        ..\n",
       "2938     4\n",
       "2939    10\n",
       "2940    10\n",
       "2941    10\n",
       "2942     9\n",
       "Name: month, Length: 2943, dtype: int32"
      ]
     },
     "execution_count": 34,
     "metadata": {},
     "output_type": "execute_result"
    }
   ],
   "source": [
    "df['month']"
   ]
  },
  {
   "cell_type": "code",
   "execution_count": 35,
   "metadata": {},
   "outputs": [
    {
     "data": {
      "text/plain": [
       "2"
      ]
     },
     "execution_count": 35,
     "metadata": {},
     "output_type": "execute_result"
    }
   ],
   "source": [
    "len(set(df['address_raw'])&set(df2['address_raw']))"
   ]
  },
  {
   "cell_type": "code",
   "execution_count": 36,
   "metadata": {},
   "outputs": [],
   "source": [
    "df['index_save'] = df.index"
   ]
  },
  {
   "cell_type": "code",
   "execution_count": 37,
   "metadata": {},
   "outputs": [
    {
     "name": "stdout",
     "output_type": "stream",
     "text": [
      "(2943, 9) (3093, 13)\n",
      "Index(['code_discription', 'address_raw', 'data_short', 'cost', 'es_code_int',\n",
      "       'test', 'month', 'year', 'index_save', 'cost_prev_year'],\n",
      "      dtype='object') \n",
      " (2943, 10)\n"
     ]
    }
   ],
   "source": [
    "# Используем метод merge для объединения DataFrame на основе условия\n",
    "df3 = df2[['address_raw', 'es_code_int','month','cost']].copy()\n",
    "df3 = df3.groupby(['address_raw', 'es_code_int','month'], as_index=False)['cost'].mean()\n",
    "merged_df = pd.merge(df, df3, on=['address_raw', 'es_code_int','month'], how='left', suffixes=('', '_prev_year'))\n",
    "\n",
    "# В результате получаем новый DataFrame с добавленными данными\n",
    "print(df.shape, df2.shape)\n",
    "print(merged_df.columns, '\\n',merged_df.shape)"
   ]
  },
  {
   "cell_type": "code",
   "execution_count": 38,
   "metadata": {},
   "outputs": [
    {
     "data": {
      "text/plain": [
       "(2925, 10)"
      ]
     },
     "execution_count": 38,
     "metadata": {},
     "output_type": "execute_result"
    }
   ],
   "source": [
    "nan_rows_merged_df = merged_df[merged_df['cost_prev_year'].isna()]\n",
    "nan_rows_merged_df.shape"
   ]
  },
  {
   "cell_type": "code",
   "execution_count": 39,
   "metadata": {},
   "outputs": [
    {
     "data": {
      "text/plain": [
       "(18, 10)"
      ]
     },
     "execution_count": 39,
     "metadata": {},
     "output_type": "execute_result"
    }
   ],
   "source": [
    "merged_df = merged_df.dropna(subset=['cost_prev_year'])\n",
    "merged_df.shape"
   ]
  },
  {
   "cell_type": "code",
   "execution_count": 40,
   "metadata": {},
   "outputs": [],
   "source": [
    "nan_rows_merged_df.drop(columns=['cost_prev_year'], inplace=True)\n",
    "shift_value = 1\n",
    "nan_rows_merged_df['month'] = (nan_rows_merged_df['month'] + shift_value - 1) % 12 + 1\n"
   ]
  },
  {
   "cell_type": "code",
   "execution_count": 41,
   "metadata": {},
   "outputs": [
    {
     "name": "stdout",
     "output_type": "stream",
     "text": [
      "(2925, 9) (3093, 13)\n",
      "Index(['code_discription', 'address_raw', 'data_short', 'cost', 'es_code_int',\n",
      "       'test', 'month', 'year', 'index_save', 'cost_prev_year'],\n",
      "      dtype='object') \n",
      " (2925, 10)\n"
     ]
    }
   ],
   "source": [
    "# Используем метод merge для объединения DataFrame на основе условия\n",
    "df3 = df2[['address_raw', 'es_code_int','month','cost']].copy()\n",
    "df3 = df3.groupby(['address_raw', 'es_code_int','month'], as_index=False)['cost'].mean()\n",
    "merged_df2 = pd.merge(nan_rows_merged_df, df3, on=['address_raw', 'es_code_int','month'], how='left', suffixes=('', '_prev_year'))\n",
    "\n",
    "# В результате получаем новый DataFrame с добавленными данными\n",
    "print(nan_rows_merged_df.shape, df2.shape)\n",
    "print(merged_df2.columns, '\\n',merged_df2.shape)"
   ]
  },
  {
   "cell_type": "code",
   "execution_count": 42,
   "metadata": {},
   "outputs": [
    {
     "data": {
      "text/plain": [
       "(2916, 10)"
      ]
     },
     "execution_count": 42,
     "metadata": {},
     "output_type": "execute_result"
    }
   ],
   "source": [
    "nan_rows_merged_df2 = merged_df2[merged_df2['cost_prev_year'].isna()]\n",
    "nan_rows_merged_df2.shape\n"
   ]
  },
  {
   "cell_type": "code",
   "execution_count": 43,
   "metadata": {},
   "outputs": [
    {
     "data": {
      "text/plain": [
       "(9, 10)"
      ]
     },
     "execution_count": 43,
     "metadata": {},
     "output_type": "execute_result"
    }
   ],
   "source": [
    "merged_df2 = merged_df2.dropna(subset=['cost_prev_year'])\n",
    "merged_df2.shape"
   ]
  },
  {
   "cell_type": "code",
   "execution_count": 44,
   "metadata": {},
   "outputs": [],
   "source": [
    "nan_rows_merged_df2.drop(columns=['cost_prev_year'], inplace=True)\n",
    "shift_value = -2\n",
    "nan_rows_merged_df2['month'] = (nan_rows_merged_df2['month'] + shift_value - 1) % 12 + 1\n"
   ]
  },
  {
   "cell_type": "code",
   "execution_count": 45,
   "metadata": {},
   "outputs": [
    {
     "name": "stdout",
     "output_type": "stream",
     "text": [
      "(2916, 9) (2141, 4)\n",
      "Index(['code_discription', 'address_raw', 'data_short', 'cost', 'es_code_int',\n",
      "       'test', 'month', 'year', 'index_save', 'cost_prev_year'],\n",
      "      dtype='object') \n",
      " (2916, 10)\n"
     ]
    }
   ],
   "source": [
    "# Используем метод merge для объединения DataFrame на основе условия\n",
    "df3 = df2[['address_raw', 'es_code_int','month','cost']].copy()\n",
    "df3 = df3.groupby(['address_raw', 'es_code_int','month'], as_index=False)['cost'].mean()\n",
    "merged_df3 = pd.merge(nan_rows_merged_df2, df3, on=['address_raw', 'es_code_int','month'], how='left', suffixes=('', '_prev_year'))\n",
    "\n",
    "# В результате получаем новый DataFrame с добавленными данными\n",
    "print(nan_rows_merged_df2.shape, df3.shape)\n",
    "print(merged_df3.columns, '\\n',merged_df3.shape)"
   ]
  },
  {
   "cell_type": "code",
   "execution_count": 46,
   "metadata": {},
   "outputs": [
    {
     "data": {
      "text/plain": [
       "(2916, 10)"
      ]
     },
     "execution_count": 46,
     "metadata": {},
     "output_type": "execute_result"
    }
   ],
   "source": [
    "nan_rows_merged_df3 = merged_df3[merged_df3['cost_prev_year'].isna()]\n",
    "nan_rows_merged_df3.shape"
   ]
  },
  {
   "cell_type": "code",
   "execution_count": 47,
   "metadata": {},
   "outputs": [
    {
     "data": {
      "text/plain": [
       "(0, 10)"
      ]
     },
     "execution_count": 47,
     "metadata": {},
     "output_type": "execute_result"
    }
   ],
   "source": [
    "merged_df3 = merged_df3.dropna(subset=['cost_prev_year'])\n",
    "merged_df3.shape"
   ]
  },
  {
   "cell_type": "markdown",
   "metadata": {},
   "source": [
    "### fill NaN by adress similarity\n"
   ]
  },
  {
   "cell_type": "code",
   "execution_count": 48,
   "metadata": {},
   "outputs": [],
   "source": [
    "for i, row1 in nan_rows_merged_df3.iterrows():\n",
    "    matching_rows_df2 = df2[(df2['month'] == row1['month']) & (df2['es_code_int'] == row1['es_code_int'])]\n",
    "\n",
    "    best_match_index = -1\n",
    "    best_score = -1\n",
    "\n",
    "    for j, row2 in matching_rows_df2.iterrows():\n",
    "        score = spec_match(str(row1['test']), str(row2['test']))\n",
    "        if score > best_score:\n",
    "            best_score = score\n",
    "            best_match_index = j\n",
    "\n",
    "    if best_match_index != -1:\n",
    "        nan_rows_merged_df3.at[i, 'prev_year_cost'] = df2.at[best_match_index, 'cost']"
   ]
  },
  {
   "cell_type": "code",
   "execution_count": 49,
   "metadata": {},
   "outputs": [],
   "source": [
    "nan_rows_merged_df3['cost_prev_year'] = nan_rows_merged_df3['cost_prev_year'].fillna(nan_rows_merged_df3['prev_year_cost'])\n",
    "nan_rows_merged_df3.drop(columns=['prev_year_cost'], inplace=True)"
   ]
  },
  {
   "cell_type": "markdown",
   "metadata": {},
   "source": [
    "## mrg_df все еще содержит NaN"
   ]
  },
  {
   "cell_type": "code",
   "execution_count": 50,
   "metadata": {},
   "outputs": [
    {
     "data": {
      "text/html": [
       "<div>\n",
       "<style scoped>\n",
       "    .dataframe tbody tr th:only-of-type {\n",
       "        vertical-align: middle;\n",
       "    }\n",
       "\n",
       "    .dataframe tbody tr th {\n",
       "        vertical-align: top;\n",
       "    }\n",
       "\n",
       "    .dataframe thead th {\n",
       "        text-align: right;\n",
       "    }\n",
       "</style>\n",
       "<table border=\"1\" class=\"dataframe\">\n",
       "  <thead>\n",
       "    <tr style=\"text-align: right;\">\n",
       "      <th></th>\n",
       "      <th>code_discription</th>\n",
       "      <th>address_raw</th>\n",
       "      <th>data_short</th>\n",
       "      <th>cost</th>\n",
       "      <th>es_code_int</th>\n",
       "      <th>test</th>\n",
       "      <th>month</th>\n",
       "      <th>year</th>\n",
       "      <th>index_save</th>\n",
       "      <th>cost_prev_year</th>\n",
       "    </tr>\n",
       "  </thead>\n",
       "  <tbody>\n",
       "    <tr>\n",
       "      <th>0</th>\n",
       "      <td>Расходы по оплате всех видов отопления зданий ...</td>\n",
       "      <td>оплата за тепловую энергию по тарифам зд. ул.с...</td>\n",
       "      <td>2020-11-01</td>\n",
       "      <td>35986.46</td>\n",
       "      <td>2</td>\n",
       "      <td>за по светланская 134</td>\n",
       "      <td>11</td>\n",
       "      <td>2020</td>\n",
       "      <td>548</td>\n",
       "      <td>11221.093333</td>\n",
       "    </tr>\n",
       "    <tr>\n",
       "      <th>1</th>\n",
       "      <td>Расходы по оплате всех видов отопления зданий ...</td>\n",
       "      <td>оплата за тепловую энергию по тарифам зд. ул.с...</td>\n",
       "      <td>2020-10-01</td>\n",
       "      <td>34621.89</td>\n",
       "      <td>2</td>\n",
       "      <td>за по светланская 134</td>\n",
       "      <td>10</td>\n",
       "      <td>2020</td>\n",
       "      <td>550</td>\n",
       "      <td>8832.145000</td>\n",
       "    </tr>\n",
       "    <tr>\n",
       "      <th>2</th>\n",
       "      <td>Расходы по оплате всех видов отопления зданий ...</td>\n",
       "      <td>оплата за тепловую энергию по тарифам зд. ул.с...</td>\n",
       "      <td>2020-09-01</td>\n",
       "      <td>30776.41</td>\n",
       "      <td>2</td>\n",
       "      <td>за по светланская 134</td>\n",
       "      <td>9</td>\n",
       "      <td>2020</td>\n",
       "      <td>551</td>\n",
       "      <td>1690.760000</td>\n",
       "    </tr>\n",
       "    <tr>\n",
       "      <th>3</th>\n",
       "      <td>Расходы по оплате всех видов отопления зданий ...</td>\n",
       "      <td>оплата за тепловую энергию по тарифам зд. ул.с...</td>\n",
       "      <td>2020-05-01</td>\n",
       "      <td>22688.36</td>\n",
       "      <td>2</td>\n",
       "      <td>за по светланская 134</td>\n",
       "      <td>5</td>\n",
       "      <td>2020</td>\n",
       "      <td>552</td>\n",
       "      <td>17512.730000</td>\n",
       "    </tr>\n",
       "    <tr>\n",
       "      <th>4</th>\n",
       "      <td>Расходы по оплате всех видов отопления зданий ...</td>\n",
       "      <td>оплата за тепловую энергию по тарифам зд. ул.с...</td>\n",
       "      <td>2020-11-01</td>\n",
       "      <td>19859.33</td>\n",
       "      <td>2</td>\n",
       "      <td>за по светланская 134</td>\n",
       "      <td>11</td>\n",
       "      <td>2020</td>\n",
       "      <td>553</td>\n",
       "      <td>11221.093333</td>\n",
       "    </tr>\n",
       "    <tr>\n",
       "      <th>...</th>\n",
       "      <td>...</td>\n",
       "      <td>...</td>\n",
       "      <td>...</td>\n",
       "      <td>...</td>\n",
       "      <td>...</td>\n",
       "      <td>...</td>\n",
       "      <td>...</td>\n",
       "      <td>...</td>\n",
       "      <td>...</td>\n",
       "      <td>...</td>\n",
       "    </tr>\n",
       "    <tr>\n",
       "      <th>2938</th>\n",
       "      <td>Расходы по оплате услуг водоснабжения, водоотв...</td>\n",
       "      <td>оплата за холодное водоснабжение по тарифам, у...</td>\n",
       "      <td>2020-04-01</td>\n",
       "      <td>226.73</td>\n",
       "      <td>3</td>\n",
       "      <td>за холодное по амурского 42</td>\n",
       "      <td>3</td>\n",
       "      <td>2020</td>\n",
       "      <td>2938</td>\n",
       "      <td>339.650000</td>\n",
       "    </tr>\n",
       "    <tr>\n",
       "      <th>2939</th>\n",
       "      <td>Расходы по оплате услуг водоснабжения, водоотв...</td>\n",
       "      <td>оплата за холодное водоснабжение по тарифам, у...</td>\n",
       "      <td>2020-10-01</td>\n",
       "      <td>87.79</td>\n",
       "      <td>3</td>\n",
       "      <td>за холодное по амурского 42</td>\n",
       "      <td>9</td>\n",
       "      <td>2020</td>\n",
       "      <td>2939</td>\n",
       "      <td>344.460000</td>\n",
       "    </tr>\n",
       "    <tr>\n",
       "      <th>2940</th>\n",
       "      <td>Расходы по оплате услуг водоснабжения, водоотв...</td>\n",
       "      <td>оплата за холодное водоснабжение по тарифам, у...</td>\n",
       "      <td>2020-10-01</td>\n",
       "      <td>186.56</td>\n",
       "      <td>3</td>\n",
       "      <td>за холодное по амурского 42</td>\n",
       "      <td>9</td>\n",
       "      <td>2020</td>\n",
       "      <td>2940</td>\n",
       "      <td>344.460000</td>\n",
       "    </tr>\n",
       "    <tr>\n",
       "      <th>2941</th>\n",
       "      <td>Расходы по оплате услуг водоснабжения, водоотв...</td>\n",
       "      <td>оплата за холодное водоснабжение по тарифам, у...</td>\n",
       "      <td>2020-10-01</td>\n",
       "      <td>175.58</td>\n",
       "      <td>3</td>\n",
       "      <td>за холодное по амурского 42</td>\n",
       "      <td>9</td>\n",
       "      <td>2020</td>\n",
       "      <td>2941</td>\n",
       "      <td>344.460000</td>\n",
       "    </tr>\n",
       "    <tr>\n",
       "      <th>2942</th>\n",
       "      <td>Расходы по оплате услуг водоснабжения, водоотв...</td>\n",
       "      <td>оплата за холодное водоснабжение по тарифам, у...</td>\n",
       "      <td>2020-09-01</td>\n",
       "      <td>129.49</td>\n",
       "      <td>3</td>\n",
       "      <td>за холодное по амурского 42</td>\n",
       "      <td>8</td>\n",
       "      <td>2020</td>\n",
       "      <td>2942</td>\n",
       "      <td>352.800000</td>\n",
       "    </tr>\n",
       "  </tbody>\n",
       "</table>\n",
       "<p>2943 rows × 10 columns</p>\n",
       "</div>"
      ],
      "text/plain": [
       "                                       code_discription  \\\n",
       "0     Расходы по оплате всех видов отопления зданий ...   \n",
       "1     Расходы по оплате всех видов отопления зданий ...   \n",
       "2     Расходы по оплате всех видов отопления зданий ...   \n",
       "3     Расходы по оплате всех видов отопления зданий ...   \n",
       "4     Расходы по оплате всех видов отопления зданий ...   \n",
       "...                                                 ...   \n",
       "2938  Расходы по оплате услуг водоснабжения, водоотв...   \n",
       "2939  Расходы по оплате услуг водоснабжения, водоотв...   \n",
       "2940  Расходы по оплате услуг водоснабжения, водоотв...   \n",
       "2941  Расходы по оплате услуг водоснабжения, водоотв...   \n",
       "2942  Расходы по оплате услуг водоснабжения, водоотв...   \n",
       "\n",
       "                                            address_raw data_short      cost  \\\n",
       "0     оплата за тепловую энергию по тарифам зд. ул.с... 2020-11-01  35986.46   \n",
       "1     оплата за тепловую энергию по тарифам зд. ул.с... 2020-10-01  34621.89   \n",
       "2     оплата за тепловую энергию по тарифам зд. ул.с... 2020-09-01  30776.41   \n",
       "3     оплата за тепловую энергию по тарифам зд. ул.с... 2020-05-01  22688.36   \n",
       "4     оплата за тепловую энергию по тарифам зд. ул.с... 2020-11-01  19859.33   \n",
       "...                                                 ...        ...       ...   \n",
       "2938  оплата за холодное водоснабжение по тарифам, у... 2020-04-01    226.73   \n",
       "2939  оплата за холодное водоснабжение по тарифам, у... 2020-10-01     87.79   \n",
       "2940  оплата за холодное водоснабжение по тарифам, у... 2020-10-01    186.56   \n",
       "2941  оплата за холодное водоснабжение по тарифам, у... 2020-10-01    175.58   \n",
       "2942  оплата за холодное водоснабжение по тарифам, у... 2020-09-01    129.49   \n",
       "\n",
       "      es_code_int                         test  month  year  index_save  \\\n",
       "0               2        за по светланская 134     11  2020         548   \n",
       "1               2        за по светланская 134     10  2020         550   \n",
       "2               2        за по светланская 134      9  2020         551   \n",
       "3               2        за по светланская 134      5  2020         552   \n",
       "4               2        за по светланская 134     11  2020         553   \n",
       "...           ...                          ...    ...   ...         ...   \n",
       "2938            3  за холодное по амурского 42      3  2020        2938   \n",
       "2939            3  за холодное по амурского 42      9  2020        2939   \n",
       "2940            3  за холодное по амурского 42      9  2020        2940   \n",
       "2941            3  за холодное по амурского 42      9  2020        2941   \n",
       "2942            3  за холодное по амурского 42      8  2020        2942   \n",
       "\n",
       "      cost_prev_year  \n",
       "0       11221.093333  \n",
       "1        8832.145000  \n",
       "2        1690.760000  \n",
       "3       17512.730000  \n",
       "4       11221.093333  \n",
       "...              ...  \n",
       "2938      339.650000  \n",
       "2939      344.460000  \n",
       "2940      344.460000  \n",
       "2941      344.460000  \n",
       "2942      352.800000  \n",
       "\n",
       "[2943 rows x 10 columns]"
      ]
     },
     "execution_count": 50,
     "metadata": {},
     "output_type": "execute_result"
    }
   ],
   "source": [
    "mrg_df = pd.concat([merged_df, merged_df2, merged_df3, nan_rows_merged_df3], ignore_index=True)\n",
    "mrg_df"
   ]
  },
  {
   "cell_type": "markdown",
   "metadata": {},
   "source": [
    "### сейчас добавми дополнительные данные"
   ]
  },
  {
   "cell_type": "code",
   "execution_count": 51,
   "metadata": {},
   "outputs": [],
   "source": [
    "add_info_file = './data3/qart/merget_tr_q2y_2019.xlsx'"
   ]
  },
  {
   "cell_type": "code",
   "execution_count": 52,
   "metadata": {},
   "outputs": [],
   "source": [
    "add_df = pd.read_excel(add_info_file)"
   ]
  },
  {
   "cell_type": "code",
   "execution_count": 53,
   "metadata": {},
   "outputs": [
    {
     "data": {
      "text/plain": [
       "cad_code                 0\n",
       "build_date               0\n",
       "balance_accept_date      0\n",
       "com_sq_estate_q1         0\n",
       "com_sq_building_q1       0\n",
       "                      ... \n",
       "years_before_q4          0\n",
       "address_new             21\n",
       "TR_object_name         426\n",
       "TR_planned_cost        426\n",
       "TR_cost                426\n",
       "Length: 100, dtype: int64"
      ]
     },
     "execution_count": 53,
     "metadata": {},
     "output_type": "execute_result"
    }
   ],
   "source": [
    "add_df.isnull().sum()"
   ]
  },
  {
   "cell_type": "code",
   "execution_count": 54,
   "metadata": {},
   "outputs": [],
   "source": [
    "selected_columns = ['TR_object_name', 'TR_planned_cost', 'TR_cost']\n",
    "\n",
    "# Заполняем пропущенные значения в выбранных колонках нулями\n",
    "add_df[selected_columns] = add_df[selected_columns].fillna(0)"
   ]
  },
  {
   "cell_type": "code",
   "execution_count": 55,
   "metadata": {},
   "outputs": [],
   "source": [
    "mrg_df_bkp = mrg_df.copy()\n",
    "add_df_bkp = add_df.copy()"
   ]
  },
  {
   "cell_type": "code",
   "execution_count": 56,
   "metadata": {},
   "outputs": [],
   "source": [
    "cols_to_copy = ['com_sq_estate_q1',\n",
    "       'com_sq_building_q1', 'busy_cb_1_q1', 'not_busy_cb_1_q1',\n",
    "       'rent_out_1_q1', 'rented_1_q1', 'rent_out_sub_1_q1', 'transfer_1_q1',\n",
    "       'transfer_2_q1', 'busy_cb_2_q1', 'not_busy_cb_2_q1', 'rent_out_2_q1',\n",
    "       'rented_2_q1', 'rent_out_sub_2_q1', 'transfer_3_q1', 'transfer_4_q1',\n",
    "       'balance_cost_q1', 'over_price_q1', 'accrual_amount_q1',\n",
    "       'residual_value_q1', 'technical_condition_q1', 'otdel',\n",
    "       'years_holding_q1', 'years_before_q1', 'com_sq_estate_q2',\n",
    "       'com_sq_building_q2', 'busy_cb_1_q2', 'not_busy_cb_1_q2',\n",
    "       'rent_out_1_q2', 'rented_1_q2', 'rent_out_sub_1_q2', 'transfer_1_q2',\n",
    "       'transfer_2_q2', 'busy_cb_2_q2', 'not_busy_cb_2_q2', 'rent_out_2_q2',\n",
    "       'rented_2_q2', 'rent_out_sub_2_q2', 'transfer_3_q2', 'transfer_4_q2',\n",
    "       'balance_cost_q2', 'over_price_q2', 'accrual_amount_q2',\n",
    "       'residual_value_q2', 'technical_condition_q2', 'years_holding_q2',\n",
    "       'years_before_q2', 'com_sq_estate_q3', 'com_sq_building_q3',\n",
    "       'busy_cb_1_q3', 'not_busy_cb_1_q3', 'rent_out_1_q3', 'rented_1_q3',\n",
    "       'rent_out_sub_1_q3', 'transfer_1_q3', 'transfer_2_q3', 'busy_cb_2_q3',\n",
    "       'not_busy_cb_2_q3', 'rent_out_2_q3', 'rented_2_q3', 'rent_out_sub_2_q3',\n",
    "       'transfer_3_q3', 'transfer_4_q3', 'balance_cost_q3', 'over_price_q3',\n",
    "       'accrual_amount_q3', 'residual_value_q3', 'technical_condition_q3',\n",
    "       'years_holding_q3', 'years_before_q3', 'com_sq_estate_q4',\n",
    "       'com_sq_building_q4', 'busy_cb_1_q4', 'not_busy_cb_1_q4',\n",
    "       'rent_out_1_q4', 'rented_1_q4', 'rent_out_sub_1_q4', 'transfer_1_q4',\n",
    "       'transfer_2_q4', 'busy_cb_2_q4', 'not_busy_cb_2_q4', 'rent_out_2_q4',\n",
    "       'rented_2_q4', 'rent_out_sub_2_q4', 'transfer_3_q4', 'transfer_4_q4',\n",
    "       'balance_cost_q4', 'over_price_q4', 'accrual_amount_q4',\n",
    "       'residual_value_q4', 'technical_condition_q4', 'years_holding_q4',\n",
    "       'years_before_q4', 'TR_object_name', 'TR_planned_cost',\n",
    "       'TR_cost'] #without 'address_new' 'cad_code', 'build_date', 'balance_accept_date'\n"
   ]
  },
  {
   "cell_type": "code",
   "execution_count": 57,
   "metadata": {},
   "outputs": [
    {
     "data": {
      "text/html": [
       "<div>\n",
       "<style scoped>\n",
       "    .dataframe tbody tr th:only-of-type {\n",
       "        vertical-align: middle;\n",
       "    }\n",
       "\n",
       "    .dataframe tbody tr th {\n",
       "        vertical-align: top;\n",
       "    }\n",
       "\n",
       "    .dataframe thead th {\n",
       "        text-align: right;\n",
       "    }\n",
       "</style>\n",
       "<table border=\"1\" class=\"dataframe\">\n",
       "  <thead>\n",
       "    <tr style=\"text-align: right;\">\n",
       "      <th></th>\n",
       "      <th>code_discription</th>\n",
       "      <th>address_raw</th>\n",
       "      <th>data_short</th>\n",
       "      <th>cost</th>\n",
       "      <th>es_code_int</th>\n",
       "      <th>test</th>\n",
       "      <th>month</th>\n",
       "      <th>year</th>\n",
       "      <th>index_save</th>\n",
       "      <th>cost_prev_year</th>\n",
       "    </tr>\n",
       "  </thead>\n",
       "  <tbody>\n",
       "    <tr>\n",
       "      <th>0</th>\n",
       "      <td>Расходы по оплате всех видов отопления зданий ...</td>\n",
       "      <td>оплата за тепловую энергию по тарифам зд. ул.с...</td>\n",
       "      <td>2020-11-01</td>\n",
       "      <td>35986.46</td>\n",
       "      <td>2</td>\n",
       "      <td>за по светланская 134</td>\n",
       "      <td>11</td>\n",
       "      <td>2020</td>\n",
       "      <td>548</td>\n",
       "      <td>11221.093333</td>\n",
       "    </tr>\n",
       "    <tr>\n",
       "      <th>1</th>\n",
       "      <td>Расходы по оплате всех видов отопления зданий ...</td>\n",
       "      <td>оплата за тепловую энергию по тарифам зд. ул.с...</td>\n",
       "      <td>2020-10-01</td>\n",
       "      <td>34621.89</td>\n",
       "      <td>2</td>\n",
       "      <td>за по светланская 134</td>\n",
       "      <td>10</td>\n",
       "      <td>2020</td>\n",
       "      <td>550</td>\n",
       "      <td>8832.145000</td>\n",
       "    </tr>\n",
       "    <tr>\n",
       "      <th>2</th>\n",
       "      <td>Расходы по оплате всех видов отопления зданий ...</td>\n",
       "      <td>оплата за тепловую энергию по тарифам зд. ул.с...</td>\n",
       "      <td>2020-09-01</td>\n",
       "      <td>30776.41</td>\n",
       "      <td>2</td>\n",
       "      <td>за по светланская 134</td>\n",
       "      <td>9</td>\n",
       "      <td>2020</td>\n",
       "      <td>551</td>\n",
       "      <td>1690.760000</td>\n",
       "    </tr>\n",
       "    <tr>\n",
       "      <th>3</th>\n",
       "      <td>Расходы по оплате всех видов отопления зданий ...</td>\n",
       "      <td>оплата за тепловую энергию по тарифам зд. ул.с...</td>\n",
       "      <td>2020-05-01</td>\n",
       "      <td>22688.36</td>\n",
       "      <td>2</td>\n",
       "      <td>за по светланская 134</td>\n",
       "      <td>5</td>\n",
       "      <td>2020</td>\n",
       "      <td>552</td>\n",
       "      <td>17512.730000</td>\n",
       "    </tr>\n",
       "    <tr>\n",
       "      <th>4</th>\n",
       "      <td>Расходы по оплате всех видов отопления зданий ...</td>\n",
       "      <td>оплата за тепловую энергию по тарифам зд. ул.с...</td>\n",
       "      <td>2020-11-01</td>\n",
       "      <td>19859.33</td>\n",
       "      <td>2</td>\n",
       "      <td>за по светланская 134</td>\n",
       "      <td>11</td>\n",
       "      <td>2020</td>\n",
       "      <td>553</td>\n",
       "      <td>11221.093333</td>\n",
       "    </tr>\n",
       "    <tr>\n",
       "      <th>...</th>\n",
       "      <td>...</td>\n",
       "      <td>...</td>\n",
       "      <td>...</td>\n",
       "      <td>...</td>\n",
       "      <td>...</td>\n",
       "      <td>...</td>\n",
       "      <td>...</td>\n",
       "      <td>...</td>\n",
       "      <td>...</td>\n",
       "      <td>...</td>\n",
       "    </tr>\n",
       "    <tr>\n",
       "      <th>2938</th>\n",
       "      <td>Расходы по оплате услуг водоснабжения, водоотв...</td>\n",
       "      <td>оплата за холодное водоснабжение по тарифам, у...</td>\n",
       "      <td>2020-04-01</td>\n",
       "      <td>226.73</td>\n",
       "      <td>3</td>\n",
       "      <td>за холодное по амурского 42</td>\n",
       "      <td>3</td>\n",
       "      <td>2020</td>\n",
       "      <td>2938</td>\n",
       "      <td>339.650000</td>\n",
       "    </tr>\n",
       "    <tr>\n",
       "      <th>2939</th>\n",
       "      <td>Расходы по оплате услуг водоснабжения, водоотв...</td>\n",
       "      <td>оплата за холодное водоснабжение по тарифам, у...</td>\n",
       "      <td>2020-10-01</td>\n",
       "      <td>87.79</td>\n",
       "      <td>3</td>\n",
       "      <td>за холодное по амурского 42</td>\n",
       "      <td>9</td>\n",
       "      <td>2020</td>\n",
       "      <td>2939</td>\n",
       "      <td>344.460000</td>\n",
       "    </tr>\n",
       "    <tr>\n",
       "      <th>2940</th>\n",
       "      <td>Расходы по оплате услуг водоснабжения, водоотв...</td>\n",
       "      <td>оплата за холодное водоснабжение по тарифам, у...</td>\n",
       "      <td>2020-10-01</td>\n",
       "      <td>186.56</td>\n",
       "      <td>3</td>\n",
       "      <td>за холодное по амурского 42</td>\n",
       "      <td>9</td>\n",
       "      <td>2020</td>\n",
       "      <td>2940</td>\n",
       "      <td>344.460000</td>\n",
       "    </tr>\n",
       "    <tr>\n",
       "      <th>2941</th>\n",
       "      <td>Расходы по оплате услуг водоснабжения, водоотв...</td>\n",
       "      <td>оплата за холодное водоснабжение по тарифам, у...</td>\n",
       "      <td>2020-10-01</td>\n",
       "      <td>175.58</td>\n",
       "      <td>3</td>\n",
       "      <td>за холодное по амурского 42</td>\n",
       "      <td>9</td>\n",
       "      <td>2020</td>\n",
       "      <td>2941</td>\n",
       "      <td>344.460000</td>\n",
       "    </tr>\n",
       "    <tr>\n",
       "      <th>2942</th>\n",
       "      <td>Расходы по оплате услуг водоснабжения, водоотв...</td>\n",
       "      <td>оплата за холодное водоснабжение по тарифам, у...</td>\n",
       "      <td>2020-09-01</td>\n",
       "      <td>129.49</td>\n",
       "      <td>3</td>\n",
       "      <td>за холодное по амурского 42</td>\n",
       "      <td>8</td>\n",
       "      <td>2020</td>\n",
       "      <td>2942</td>\n",
       "      <td>352.800000</td>\n",
       "    </tr>\n",
       "  </tbody>\n",
       "</table>\n",
       "<p>2943 rows × 10 columns</p>\n",
       "</div>"
      ],
      "text/plain": [
       "                                       code_discription  \\\n",
       "0     Расходы по оплате всех видов отопления зданий ...   \n",
       "1     Расходы по оплате всех видов отопления зданий ...   \n",
       "2     Расходы по оплате всех видов отопления зданий ...   \n",
       "3     Расходы по оплате всех видов отопления зданий ...   \n",
       "4     Расходы по оплате всех видов отопления зданий ...   \n",
       "...                                                 ...   \n",
       "2938  Расходы по оплате услуг водоснабжения, водоотв...   \n",
       "2939  Расходы по оплате услуг водоснабжения, водоотв...   \n",
       "2940  Расходы по оплате услуг водоснабжения, водоотв...   \n",
       "2941  Расходы по оплате услуг водоснабжения, водоотв...   \n",
       "2942  Расходы по оплате услуг водоснабжения, водоотв...   \n",
       "\n",
       "                                            address_raw data_short      cost  \\\n",
       "0     оплата за тепловую энергию по тарифам зд. ул.с... 2020-11-01  35986.46   \n",
       "1     оплата за тепловую энергию по тарифам зд. ул.с... 2020-10-01  34621.89   \n",
       "2     оплата за тепловую энергию по тарифам зд. ул.с... 2020-09-01  30776.41   \n",
       "3     оплата за тепловую энергию по тарифам зд. ул.с... 2020-05-01  22688.36   \n",
       "4     оплата за тепловую энергию по тарифам зд. ул.с... 2020-11-01  19859.33   \n",
       "...                                                 ...        ...       ...   \n",
       "2938  оплата за холодное водоснабжение по тарифам, у... 2020-04-01    226.73   \n",
       "2939  оплата за холодное водоснабжение по тарифам, у... 2020-10-01     87.79   \n",
       "2940  оплата за холодное водоснабжение по тарифам, у... 2020-10-01    186.56   \n",
       "2941  оплата за холодное водоснабжение по тарифам, у... 2020-10-01    175.58   \n",
       "2942  оплата за холодное водоснабжение по тарифам, у... 2020-09-01    129.49   \n",
       "\n",
       "      es_code_int                         test  month  year  index_save  \\\n",
       "0               2        за по светланская 134     11  2020         548   \n",
       "1               2        за по светланская 134     10  2020         550   \n",
       "2               2        за по светланская 134      9  2020         551   \n",
       "3               2        за по светланская 134      5  2020         552   \n",
       "4               2        за по светланская 134     11  2020         553   \n",
       "...           ...                          ...    ...   ...         ...   \n",
       "2938            3  за холодное по амурского 42      3  2020        2938   \n",
       "2939            3  за холодное по амурского 42      9  2020        2939   \n",
       "2940            3  за холодное по амурского 42      9  2020        2940   \n",
       "2941            3  за холодное по амурского 42      9  2020        2941   \n",
       "2942            3  за холодное по амурского 42      8  2020        2942   \n",
       "\n",
       "      cost_prev_year  \n",
       "0       11221.093333  \n",
       "1        8832.145000  \n",
       "2        1690.760000  \n",
       "3       17512.730000  \n",
       "4       11221.093333  \n",
       "...              ...  \n",
       "2938      339.650000  \n",
       "2939      344.460000  \n",
       "2940      344.460000  \n",
       "2941      344.460000  \n",
       "2942      352.800000  \n",
       "\n",
       "[2943 rows x 10 columns]"
      ]
     },
     "execution_count": 57,
     "metadata": {},
     "output_type": "execute_result"
    }
   ],
   "source": [
    "mrg_df"
   ]
  },
  {
   "cell_type": "code",
   "execution_count": 58,
   "metadata": {},
   "outputs": [],
   "source": [
    "mrg_df.loc[:, cols_to_copy] = None\n",
    "\n",
    "# Создание матрицы оценок совпадения\n",
    "scores_matrix = pd.DataFrame(index=mrg_df.index, columns=add_df.index)\n",
    "\n",
    "for i, row1 in mrg_df.iterrows():\n",
    "    for j, row2 in add_df.iterrows():\n",
    "        scores_matrix.at[i, j] = spec_match(str(row1['test']), str(row2['address_new']))\n",
    "\n",
    "# Получение индексов максимальных значений для каждой строки\n",
    "best_matches_indices = scores_matrix.idxmax(axis=1)\n",
    "\n",
    "# Заполнение колонок в df1\n",
    "for i, column in enumerate(cols_to_copy):\n",
    "    mrg_df[column] = add_df.loc[best_matches_indices, column].values\n"
   ]
  },
  {
   "cell_type": "code",
   "execution_count": 59,
   "metadata": {},
   "outputs": [
    {
     "data": {
      "text/plain": [
       "(2943, 106)"
      ]
     },
     "execution_count": 59,
     "metadata": {},
     "output_type": "execute_result"
    }
   ],
   "source": [
    "mrg_df.shape\n"
   ]
  },
  {
   "cell_type": "code",
   "execution_count": 60,
   "metadata": {},
   "outputs": [],
   "source": [
    "mrg_df.to_excel('./data/dataset2019-2020.xlsx', index=False)"
   ]
  },
  {
   "cell_type": "code",
   "execution_count": 61,
   "metadata": {},
   "outputs": [
    {
     "name": "stdout",
     "output_type": "stream",
     "text": [
      "code_discription  address_raw  data_short  cost   es_code_int  test   month  year   index_save  cost_prev_year  com_sq_estate_q1  com_sq_building_q1  busy_cb_1_q1  not_busy_cb_1_q1  rent_out_1_q1  rented_1_q1  rent_out_sub_1_q1  transfer_1_q1  transfer_2_q1  busy_cb_2_q1  not_busy_cb_2_q1  rent_out_2_q1  rented_2_q1  rent_out_sub_2_q1  transfer_3_q1  transfer_4_q1  balance_cost_q1  over_price_q1  accrual_amount_q1  residual_value_q1  technical_condition_q1  otdel  years_holding_q1  years_before_q1  com_sq_estate_q2  com_sq_building_q2  busy_cb_1_q2  not_busy_cb_1_q2  rent_out_1_q2  rented_1_q2  rent_out_sub_1_q2  transfer_1_q2  transfer_2_q2  busy_cb_2_q2  not_busy_cb_2_q2  rent_out_2_q2  rented_2_q2  rent_out_sub_2_q2  transfer_3_q2  transfer_4_q2  balance_cost_q2  over_price_q2  accrual_amount_q2  residual_value_q2  technical_condition_q2  years_holding_q2  years_before_q2  com_sq_estate_q3  com_sq_building_q3  busy_cb_1_q3  not_busy_cb_1_q3  rent_out_1_q3  rented_1_q3  rent_out_sub_1_q3  transfer_1_q3  transfer_2_q3  busy_cb_2_q3  not_busy_cb_2_q3  rent_out_2_q3  rented_2_q3  rent_out_sub_2_q3  transfer_3_q3  transfer_4_q3  balance_cost_q3  over_price_q3  accrual_amount_q3  residual_value_q3  technical_condition_q3  years_holding_q3  years_before_q3  com_sq_estate_q4  com_sq_building_q4  busy_cb_1_q4  not_busy_cb_1_q4  rent_out_1_q4  rented_1_q4  rent_out_sub_1_q4  transfer_1_q4  transfer_2_q4  busy_cb_2_q4  not_busy_cb_2_q4  rent_out_2_q4  rented_2_q4  rent_out_sub_2_q4  transfer_3_q4  transfer_4_q4  balance_cost_q4  over_price_q4  accrual_amount_q4  residual_value_q4  technical_condition_q4  years_holding_q4  years_before_q4  TR_object_name  TR_planned_cost  TR_cost\n",
      "False             False        False       False  False        False  False  False  False       False           False             False               False         False             False          False        False              False          False          False         False             False          False        False              False          False          False            False          False              False              False                   False  False             False            False             False               False         False             False          False        False              False          False          False         False             False          False        False              False          False          False            False          False              False              False                   False             False            False             False               False         False             False          False        False              False          False          False         False             False          False        False              False          False          False            False          False              False              False                   False             False            False             False               False         False             False          False        False              False          False          False         False             False          False        False              False          False          False            False          False              False              False                   False             False            False           False            False      2939\n",
      "                                                                                                True            False             False               False         False             False          False        False              False          False          False         False             False          False        False              False          False          False            False          False              False              False                   False  False             False            False             False               False         False             False          False        False              False          False          False         False             False          False        False              False          False          False            False          False              False              False                   False             False            False             False               False         False             False          False        False              False          False          False         False             False          False        False              False          False          False            False          False              False              False                   False             False            False             False               False         False             False          False        False              False          False          False         False             False          False        False              False          False          False            False          False              False              False                   False             False            False           False            False         4\n",
      "Name: count, dtype: int64\n"
     ]
    }
   ],
   "source": [
    "print(mrg_df.isna().value_counts())"
   ]
  }
 ],
 "metadata": {
  "kernelspec": {
   "display_name": ".venv",
   "language": "python",
   "name": "python3"
  },
  "language_info": {
   "codemirror_mode": {
    "name": "ipython",
    "version": 3
   },
   "file_extension": ".py",
   "mimetype": "text/x-python",
   "name": "python",
   "nbconvert_exporter": "python",
   "pygments_lexer": "ipython3",
   "version": "3.10.0"
  }
 },
 "nbformat": 4,
 "nbformat_minor": 2
}
