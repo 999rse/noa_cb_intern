{
 "cells": [
  {
   "cell_type": "code",
   "execution_count": 9,
   "metadata": {},
   "outputs": [],
   "source": [
    "import pandas as pd\n",
    "import hashlib\n",
    "from thefuzz import fuzz\n",
    "from postal.expand import expand_address\n",
    "\n",
    "pd.set_option(\"display.max_colwidth\", None)"
   ]
  },
  {
   "cell_type": "code",
   "execution_count": 10,
   "metadata": {},
   "outputs": [],
   "source": [
    "q2y = pd.read_excel(\"out_q2y_2016.xlsx\")"
   ]
  },
  {
   "cell_type": "code",
   "execution_count": 11,
   "metadata": {},
   "outputs": [],
   "source": [
    "expenses = pd.read_excel(\"train_data/Expenses/parsed/2016.xlsx\")"
   ]
  },
  {
   "cell_type": "code",
   "execution_count": 21,
   "metadata": {},
   "outputs": [],
   "source": [
    "# Получение хеша\n",
    "def get_hash(str):\n",
    "    return hashlib.md5(str.encode())"
   ]
  },
  {
   "cell_type": "code",
   "execution_count": null,
   "metadata": {},
   "outputs": [],
   "source": [
    "# Форматизация адреса q2y\n",
    "for ind in range(q2y.shape[0]):\n",
    "    q2y.replace(q2y.iloc[ind, 1], expand_address(q2y.iloc[ind, 1])[0], inplace=True)\n",
    "\n",
    "# Форматизация адреса expenses\n",
    "for ind in range(expenses.shape[0]):\n",
    "    expenses.replace(\n",
    "        expenses.iloc[ind, 7], expand_address(expenses.iloc[ind, 7])[0], inplace=True\n",
    "    )"
   ]
  },
  {
   "cell_type": "code",
   "execution_count": 23,
   "metadata": {},
   "outputs": [],
   "source": [
    "# Создание таблицы индексов\n",
    "uhash_id = []\n",
    "\n",
    "for ind in range(q2y.shape[0]):\n",
    "    uhash_id.append(get_hash(q2y.iloc[ind, 1]).hexdigest())\n",
    "\n",
    "uhash_id = pd.DataFrame(uhash_id)\n",
    "\n",
    "id_df = pd.concat([uhash_id, q2y.iloc[:, 1]], axis=1)"
   ]
  },
  {
   "cell_type": "code",
   "execution_count": null,
   "metadata": {},
   "outputs": [],
   "source": [
    "baseline = 89\n",
    "expenses_stack = []\n",
    "\n",
    "for ind in range(id_df.shape[0]):\n",
    "    if fuzz.WRatio(id_df[ind, 1], expenses.iloc[ind, 7]) >= baseline:\n",
    "        expenses_stack.append(expenses.iloc[ind, 7])\n",
    "\n",
    "expenses_stack = pd.DataFrame(expenses_stack)\n",
    "\n",
    "id_df = pd.concat([id_df, expenses_stack])\n",
    "id_df.columns = [\"uhash_id\", \"address_q2y\", \"address_expen\"]"
   ]
  },
  {
   "cell_type": "code",
   "execution_count": 25,
   "metadata": {},
   "outputs": [
    {
     "data": {
      "text/html": [
       "<div>\n",
       "<style scoped>\n",
       "    .dataframe tbody tr th:only-of-type {\n",
       "        vertical-align: middle;\n",
       "    }\n",
       "\n",
       "    .dataframe tbody tr th {\n",
       "        vertical-align: top;\n",
       "    }\n",
       "\n",
       "    .dataframe thead th {\n",
       "        text-align: right;\n",
       "    }\n",
       "</style>\n",
       "<table border=\"1\" class=\"dataframe\">\n",
       "  <thead>\n",
       "    <tr style=\"text-align: right;\">\n",
       "      <th></th>\n",
       "      <th>uhash_id</th>\n",
       "      <th>address_q2y</th>\n",
       "    </tr>\n",
       "  </thead>\n",
       "  <tbody>\n",
       "    <tr>\n",
       "      <th>0</th>\n",
       "      <td>13c7e2183056327b0e518647b1a58be3</td>\n",
       "      <td>помещение объект номер 2  вспомогательныи 675000 амурская область г благовещенск святителя иннокентия переулок деревня 17</td>\n",
       "    </tr>\n",
       "    <tr>\n",
       "      <th>1</th>\n",
       "      <td>a25f47435fe826d04005bd616af282fd</td>\n",
       "      <td>административное здание литера а а1 676980 константиновскии раион север константиновка константиновская улица деревня 40</td>\n",
       "    </tr>\n",
       "    <tr>\n",
       "      <th>2</th>\n",
       "      <td>9508898a4efa48e4492de9cc2c6d72ab</td>\n",
       "      <td>административное здание 676246 амурская область г зея жуковскии переулок деревня 15</td>\n",
       "    </tr>\n",
       "    <tr>\n",
       "      <th>3</th>\n",
       "      <td>171dac669a1f86a94e21a85d4d6bbfe1</td>\n",
       "      <td>административное здание 676722 амурская область буреискии раион поселок городского типа новобуреискии советская улица деревня 19</td>\n",
       "    </tr>\n",
       "    <tr>\n",
       "      <th>4</th>\n",
       "      <td>a5fe66ee4645dd175f4df61af518ae79</td>\n",
       "      <td>административное здание 676776 амурская област г раичихинск победы улица деревня 49</td>\n",
       "    </tr>\n",
       "    <tr>\n",
       "      <th>...</th>\n",
       "      <td>...</td>\n",
       "      <td>...</td>\n",
       "    </tr>\n",
       "    <tr>\n",
       "      <th>523</th>\n",
       "      <td>ba656c4a69432b131dc29759263dfda7</td>\n",
       "      <td>пристроика корпус тп номер 2 689000 чукотскии автономныи округ г анадырь улица рультытегина тп-2</td>\n",
       "    </tr>\n",
       "    <tr>\n",
       "      <th>524</th>\n",
       "      <td>b1c82aeff5ba811edb80f311f27cb283</td>\n",
       "      <td>земельныи участок 689251 чукотскии автономныи округ провиденскии раион поселок городского типа провидения улица набережная-дежнева деревня 18</td>\n",
       "    </tr>\n",
       "    <tr>\n",
       "      <th>525</th>\n",
       "      <td>424c84192565e00f54ab7d9d24ca52c6</td>\n",
       "      <td>земельныи участок 689202 чукотскии автономныи округ раион иультинскии гора сопка</td>\n",
       "    </tr>\n",
       "    <tr>\n",
       "      <th>526</th>\n",
       "      <td>5a09837e3f709190152e0e5528b535d7</td>\n",
       "      <td>здание ркц 689450 чукотскии автономныи округ г билибино улица ленина 6а комп</td>\n",
       "    </tr>\n",
       "    <tr>\n",
       "      <th>527</th>\n",
       "      <td>9b2ac417ddb87cf6e04dcffc7101db73</td>\n",
       "      <td>помещение гаража здания ркц 689450 чукотскии автономныи округ г билибино улица ленина 6а комп</td>\n",
       "    </tr>\n",
       "  </tbody>\n",
       "</table>\n",
       "<p>528 rows × 2 columns</p>\n",
       "</div>"
      ],
      "text/plain": [
       "                             uhash_id  \\\n",
       "0    13c7e2183056327b0e518647b1a58be3   \n",
       "1    a25f47435fe826d04005bd616af282fd   \n",
       "2    9508898a4efa48e4492de9cc2c6d72ab   \n",
       "3    171dac669a1f86a94e21a85d4d6bbfe1   \n",
       "4    a5fe66ee4645dd175f4df61af518ae79   \n",
       "..                                ...   \n",
       "523  ba656c4a69432b131dc29759263dfda7   \n",
       "524  b1c82aeff5ba811edb80f311f27cb283   \n",
       "525  424c84192565e00f54ab7d9d24ca52c6   \n",
       "526  5a09837e3f709190152e0e5528b535d7   \n",
       "527  9b2ac417ddb87cf6e04dcffc7101db73   \n",
       "\n",
       "                                                                                                                                       address_q2y  \n",
       "0                        помещение объект номер 2  вспомогательныи 675000 амурская область г благовещенск святителя иннокентия переулок деревня 17  \n",
       "1                         административное здание литера а а1 676980 константиновскии раион север константиновка константиновская улица деревня 40  \n",
       "2                                                              административное здание 676246 амурская область г зея жуковскии переулок деревня 15  \n",
       "3                 административное здание 676722 амурская область буреискии раион поселок городского типа новобуреискии советская улица деревня 19  \n",
       "4                                                              административное здание 676776 амурская област г раичихинск победы улица деревня 49  \n",
       "..                                                                                                                                             ...  \n",
       "523                                               пристроика корпус тп номер 2 689000 чукотскии автономныи округ г анадырь улица рультытегина тп-2  \n",
       "524  земельныи участок 689251 чукотскии автономныи округ провиденскии раион поселок городского типа провидения улица набережная-дежнева деревня 18  \n",
       "525                                                               земельныи участок 689202 чукотскии автономныи округ раион иультинскии гора сопка  \n",
       "526                                                                   здание ркц 689450 чукотскии автономныи округ г билибино улица ленина 6а комп  \n",
       "527                                                  помещение гаража здания ркц 689450 чукотскии автономныи округ г билибино улица ленина 6а комп  \n",
       "\n",
       "[528 rows x 2 columns]"
      ]
     },
     "execution_count": 25,
     "metadata": {},
     "output_type": "execute_result"
    }
   ],
   "source": [
    "id_df"
   ]
  },
  {
   "cell_type": "code",
   "execution_count": null,
   "metadata": {},
   "outputs": [],
   "source": [
    "# Объединение датафреймов\n",
    "q2y_expen_frame = id_df.merge(q2y, on=\"address_q2y\", right_index=False).merge(\n",
    "    expenses, on=\"address_expen\", right_index=False\n",
    ")\n",
    "q2y_expen_frame.shape"
   ]
  }
 ],
 "metadata": {
  "kernelspec": {
   "display_name": "Python 3",
   "language": "python",
   "name": "python3"
  },
  "language_info": {
   "codemirror_mode": {
    "name": "ipython",
    "version": 3
   },
   "file_extension": ".py",
   "mimetype": "text/x-python",
   "name": "python",
   "nbconvert_exporter": "python",
   "pygments_lexer": "ipython3",
   "version": "3.10.12"
  }
 },
 "nbformat": 4,
 "nbformat_minor": 2
}
