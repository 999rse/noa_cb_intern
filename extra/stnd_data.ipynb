{
 "cells": [
  {
   "cell_type": "markdown",
   "metadata": {},
   "source": [
    "## prep address\n",
    "\n"
   ]
  },
  {
   "cell_type": "code",
   "execution_count": 1,
   "metadata": {},
   "outputs": [],
   "source": [
    "import os\n",
    "import pandas as pd"
   ]
  },
  {
   "cell_type": "code",
   "execution_count": 17,
   "metadata": {},
   "outputs": [],
   "source": [
    "# Указать путь к папке, содержащей файлы .xlsx\n",
    "folder_path = \"../prep_data/\"\n",
    "\n",
    "# Список для хранения pandas DataFrame\n",
    "dataframes = []\n",
    "\n",
    "# Чтение файлов .xlsx в указанной папке\n",
    "for file_name in os.listdir(folder_path):\n",
    "    if file_name.endswith(\".xlsx\") and file_name.startswith((\"1\", \"2\")):\n",
    "        file_path = os.path.join(folder_path, file_name)\n",
    "        print(file_name)\n",
    "        # Чтение файла в DataFrame\n",
    "        df = pd.read_excel(file_path, header=None)\n",
    "        df[11] = pd.to_datetime(df[11], errors=\"coerce\")\n",
    "        df.dropna(subset=[11], inplace=True)\n",
    "        df.reset_index(drop=True, inplace=True)\n",
    "        # Добавление DataFrame в список\n",
    "\n",
    "        df[11] = pd.to_datetime(df[11])\n",
    "        df[\"formatted_date\"] = df[11].dt.strftime(\"%m.%Y\")\n",
    "        df.drop(columns=[0, 1, 5, 8, 10], inplace=True)\n",
    "        df.columns = [\n",
    "            \"smeta\",\n",
    "            \"distr\",\n",
    "            \"code\",\n",
    "            \"code_discription\",\n",
    "            \"address_raw\",\n",
    "            \"cost\",\n",
    "            \"full_date\",\n",
    "            \"data_short\",\n",
    "        ]\n",
    "        df.to_excel(\"./data/\" + file_name)"
   ]
  },
  {
   "cell_type": "code",
   "execution_count": 40,
   "metadata": {},
   "outputs": [],
   "source": [
    "def to_lower(listin):\n",
    "    return [str(element).lower() for element in listin]\n",
    "\n",
    "\n",
    "citys = pd.read_excel(\"./np-dvfo.xlsx\", header=None, engine=\"openpyxl\")[0].to_list()\n",
    "streets = pd.read_excel(\"./names-dvfo.xlsx\", header=None, engine=\"openpyxl\")[\n",
    "    0\n",
    "].to_list()\n",
    "numbers = [str(i) for i in range(1, 1000)]\n",
    "citys = to_lower(citys)\n",
    "streets = to_lower(streets)\n",
    "numbers = to_lower(numbers)"
   ]
  },
  {
   "cell_type": "code",
   "execution_count": 44,
   "metadata": {},
   "outputs": [],
   "source": [
    "import re\n",
    "\n",
    "folder_path = \"../prep_data/\"\n",
    "# Чтение файлов .xlsx в указанной папке\n",
    "for file_name in os.listdir(folder_path):\n",
    "    if file_name.endswith(\".xlsx\"):\n",
    "        file_path = os.path.join(folder_path, file_name)\n",
    "\n",
    "        # Чтение файла в DataFrame\n",
    "        df = pd.read_excel(file_path)\n",
    "        df[\"address\"] = df[\"address\"].str.lower()\n",
    "        df[\"address_new\"] = df[\"address\"].str[-30:]\n",
    "        df[\"address_new\"] = df[\"address_new\"].apply(\n",
    "            lambda x: re.sub(r\"[^\\w\\s]\", \" \", x)\n",
    "        )\n",
    "\n",
    "        # Удаление старой колонки\n",
    "        df.drop(columns=[\"address\"], axis=1, inplace=True)\n",
    "\n",
    "        # Шаг 2: Оставить только слова и последовательности цифр не длинее 3 знаков подряд\n",
    "        # df['test'] = df['test'].apply(lambda x: re.sub(r'\\b(?:\\d{1,3}|\\w{1,})\\b', ' ', x))\n",
    "\n",
    "        # Шаг 3: Оставить только те слова, которые лежат в одном из двух списков: cities, streets\n",
    "        df[\"address_new\"] = df[\"address_new\"].apply(\n",
    "            lambda x: \" \".join(\n",
    "                word\n",
    "                for word in x.split()\n",
    "                if word in citys or word in streets or word in numbers\n",
    "            )\n",
    "        )\n",
    "        df.to_excel(\"../prep_data/out/\" + \"clean_\" + file_name, index=False)"
   ]
  }
 ],
 "metadata": {
  "kernelspec": {
   "display_name": ".venv",
   "language": "python",
   "name": "python3"
  },
  "language_info": {
   "codemirror_mode": {
    "name": "ipython",
    "version": 3
   },
   "file_extension": ".py",
   "mimetype": "text/x-python",
   "name": "python",
   "nbconvert_exporter": "python",
   "pygments_lexer": "ipython3",
   "version": "3.10.12"
  }
 },
 "nbformat": 4,
 "nbformat_minor": 2
}
