{
 "cells": [
  {
   "cell_type": "code",
   "execution_count": 46,
   "metadata": {},
   "outputs": [],
   "source": [
    "import pandas as pd\n",
    "\n",
    "pd.set_option(\"display.max_colwidth\", None)"
   ]
  },
  {
   "cell_type": "code",
   "execution_count": 47,
   "metadata": {},
   "outputs": [],
   "source": [
    "YEAR = 2021\n",
    "tr = pd.read_excel(f\"train_data/KC_TR_KR/formated/TR{YEAR+1}.xlsx\")\n",
    "q2y = pd.read_excel(f\"prep_data/out/clean_out_q2y_{YEAR}.xlsx\")"
   ]
  },
  {
   "cell_type": "code",
   "execution_count": 48,
   "metadata": {},
   "outputs": [],
   "source": [
    "newframe = q2y.merge(\n",
    "    tr, how=\"left\", left_on=[\"cad_code\"], right_on=[\"TR_cadastral_number\"]\n",
    ")\n",
    "newframe.drop(columns=[\"TR_cadastral_number\", \"TR_object_address\"], inplace=True)"
   ]
  },
  {
   "cell_type": "code",
   "execution_count": 49,
   "metadata": {},
   "outputs": [],
   "source": [
    "newframe.to_excel(f\"merget_tr_q2y_{YEAR}.xlsx\", index=False)"
   ]
  }
 ],
 "metadata": {
  "kernelspec": {
   "display_name": "Python 3",
   "language": "python",
   "name": "python3"
  },
  "language_info": {
   "codemirror_mode": {
    "name": "ipython",
    "version": 3
   },
   "file_extension": ".py",
   "mimetype": "text/x-python",
   "name": "python",
   "nbconvert_exporter": "python",
   "pygments_lexer": "ipython3",
   "version": "3.10.12"
  }
 },
 "nbformat": 4,
 "nbformat_minor": 2
}
