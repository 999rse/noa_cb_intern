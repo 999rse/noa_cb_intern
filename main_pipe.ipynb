{
 "cells": [
  {
   "cell_type": "markdown",
   "metadata": {},
   "source": [
    "## prep address\n",
    "\n"
   ]
  },
  {
   "cell_type": "code",
   "execution_count": 1,
   "metadata": {},
   "outputs": [],
   "source": [
    "import os\n",
    "import pandas as pd"
   ]
  },
  {
   "cell_type": "markdown",
   "metadata": {},
   "source": [
    "### tmp"
   ]
  },
  {
   "cell_type": "code",
   "execution_count": 2,
   "metadata": {},
   "outputs": [],
   "source": [
    "def remove_value(row, remove_this_col_num, remove_from_this_col_num, additional_str_value=''):\n",
    "    r = row[remove_from_this_col_num].replace(additional_str_value+str(row[remove_this_col_num]), '')\n",
    "    return r\n",
    "\n",
    "def remove_str(row, remove_from_this_col_num, str_value=''):\n",
    "    return row[remove_from_this_col_num].replace(str_value, '')\n",
    "def truncate_to_first_letter(input_string):\n",
    "    for index, char in enumerate(input_string):\n",
    "        if char.isalpha():\n",
    "            return input_string[index:]\n",
    "    # If there are no letters in the string, return the original string\n",
    "    return ''\n",
    "def cleanup_address(ddd):\n",
    "    ddd = ddd.dropna(subset=[0], how='all')\n",
    "    ddd1 = ddd[ddd.iloc[:, [3, 8, 11]].isna().all(axis=1)]\n",
    "    ddd2 = ddd1[ddd1[0].apply(lambda x: str(x).startswith(\"Итого по направлению\"))]\n",
    "    ddd3 = ddd2[~ddd2[7].astype(str).str.startswith(('0', '1', '2', '3', '4', '5', '6', '7', '8', '9'))]\n",
    "    ddd4 = ddd3[~ddd3[7].astype(str).str.contains('прошлого года', case=False)]\n",
    "    ddd4 = ddd4[~ddd4[7].astype(str).str.contains('прошлых', case=False)]\n",
    "    ddd4[7] = ddd4[7].str.lower()\n",
    "    ddd4[6] = ddd4[6].str.lower()\n",
    "    ddd4[12] = ddd4[7].copy()\n",
    "\n",
    "\n",
    "    ddd5 = ddd4.copy()\n",
    "    ddd5[7] = ddd5.apply(remove_value, remove_this_col_num=4, remove_from_this_col_num=7, additional_str_value='ст.', axis=1)\n",
    "    ddd5[7] = ddd5.apply(remove_value, remove_this_col_num=4, remove_from_this_col_num=7, additional_str_value='ст. ', axis=1)\n",
    "    ddd6 = ddd5.copy()\n",
    "    ddd6[7] = ddd5.apply(remove_str, remove_from_this_col_num=7, str_value='другие расходы.', axis=1)\n",
    "    ddd10 = ddd6.copy()\n",
    "    stoplist = [\n",
    "        'оплата потребления электроэнергии',\n",
    "        'оплата потребления тепловой энергии',\n",
    "        'горячее водоснабжение',\n",
    "        'затраты на ',\n",
    "        'оплата водоотведения',\n",
    "        'холодное водоснабжение ',\n",
    "        'оплата холодного водоснабжения',\n",
    "        'оплата горячего водоснабжения',\n",
    "        'оплата водоснабжения',\n",
    "        'канализации',\n",
    "        'горячая вода',\n",
    "        'холодная вода',\n",
    "        'оплата за',\n",
    "        'прошлого года',\n",
    "        'водоснабжения','водоотведения','водоотведение','водоснабжение','электроэнергии', 'горячее','горячего','вода','затраты на', 'холодного','холодное','горячая','холодная','энергии', 'оплата', '.оплата',\n",
    "        'канализацию ', 'канализация ',\n",
    "        'потребления','потребление','тепловой','газа', 'электроэнерги',\n",
    "        'тепловую энергию по тарифам ',\n",
    "        'по тарифам', 'тепловую энергию',\n",
    "        'дизельное топливо', 'эектроэнергию ',\n",
    "        'по тприфам', 'оплат за', 'обслуживание (услуги)',\n",
    "        'плата за технологическое присоединение к электрическим сетям', 'плата за технологическое присоединение к электрическим сетям (в случаях, не связанным со строительством,реконстр. и кап.ремонтом г.ленск ст. 134.1100',\n",
    "        'расходы по оплате', 'расходы по приобретению', 'дизельного', 'топлива', 'отопление',\n",
    "    ]\n",
    "    for w in stoplist:\n",
    "        ddd10[7] = ddd10.apply(remove_str, remove_from_this_col_num=7, str_value=w, axis=1)\n",
    "    import re\n",
    "    rem = []\n",
    "\n",
    "\n",
    "    ddd10[7] = ddd10.apply(remove_value, remove_this_col_num=4, remove_from_this_col_num=7, axis=1)\n",
    "    stoplist = [\n",
    "        'оплата потребления электроэнергии',\n",
    "        'оплата потребления тепловой энергии',\n",
    "        'горячее водоснабжение',\n",
    "        'затраты на ',\n",
    "        'оплата водоотведения',\n",
    "        'холодное водоснабжение ',\n",
    "        'оплата холодного водоснабжения',\n",
    "        'оплата горячего водоснабжения',\n",
    "        'оплата водоснабжения',\n",
    "        'канализации',\n",
    "        'горячая вода',\n",
    "        'холодная вода',\n",
    "        'оплата за',\n",
    "        'водоснабжения','водоотведения','водоотведение','водоснабжение','электроэнергии', 'горячее','горячего','вода','затраты на', 'холодного','холодное','горячая','холодная','энергии', 'оплата', '.оплата',\n",
    "        'канализацию ', 'канализация ',\n",
    "        'потребления','потребление','тепловой','газа', 'электроэнерги',\n",
    "        'тепловую энергию по тарифам ',\n",
    "        'по тарифам', 'тепловую энергию',\n",
    "        'дизельное топливо', 'эектроэнергию ',\n",
    "        'по тприфам', 'оплат за', 'обслуживание (услуги)',\n",
    "        'плата за технологическое присоединение к электрическим сетям', 'плата за технологическое присоединение к электрическим сетям (в случаях, не связанным со строительством,реконстр. и кап.ремонтом г.ленск ст. 134.1100',\n",
    "        'расходы по оплате', 'расходы по приобретению', 'дизельного', 'топлива', 'отопление',\n",
    "        'зо .01','зо .02','зо .03','зо .04','зо .010000','зо .020000','зо .030000','зо .040000',\n",
    "        'зо зо.','зо ','134,1000,02','плата за сброс сточных вод', 'услуги',\n",
    "        \"дгу.  здание\", \"дгу.  ю\",\n",
    "        \"дгу. плата за негативное воздействие на централ.систему\"\n",
    "    ]\n",
    "    for w in stoplist:\n",
    "        ddd10[7] = ddd10.apply(remove_str, remove_from_this_col_num=7, str_value=w, axis=1)\n",
    "    print(rem)\n",
    "    ddd10[7] = ddd10[7].apply(truncate_to_first_letter)\n",
    "    ddd10.columns\n",
    "    ddd10.columns = ['0','year', 'smeta_otdeleniya', '3', 'expens_type_code', '5', 'expense_type_name', 'address', '8', 'cost', 'cost2_same', '11', 'address_raw']\n",
    "    return ddd10"
   ]
  },
  {
   "cell_type": "markdown",
   "metadata": {},
   "source": [
    "### prepare data"
   ]
  },
  {
   "cell_type": "code",
   "execution_count": 3,
   "metadata": {},
   "outputs": [],
   "source": [
    "all_es_types = {1:['Электроэнергия','Оплата потребления электроэнергии','Расходы по оплате потребления электроэнергии','Оплата за дизельное топливо','Оплата за электроэнергию по тарифам','Оплата за эектроэнергию по тарифам','Плата за технологическое присоединение к электрическим сетям (в случаях, не связанным со строительством,реконстр. и кап.ремонтом'],\n",
    "            2:['Отопление','Оплата всех видов отопления зданий и сооружений (кроме электро- и газового снабжения)','Расходы по оплате всех видов отопления зданий и сооружений (кроме электро- и газового снабжения)','Оплата за тепловую энергию по тарифам','Оплата за прочие виды топлиа (уголь, дрова и т.д.)'],\n",
    "            3:['Водоснабжение','Оплата услуг водоснабжения, водоотведения','Расходы по оплате услуг водоснабжения, водоотведения','Оплата за водоотведение по тарифам','Оплата за горячее водоснабжение по тарифам','Оплата за холодное водоснабжение по тарифам', 'Оплата за холодное водоснабжение  по тарифам','Оплата за горячее  водоснабжение по тарифам','Оплата водоотведения по тарифам'],\n",
    "            4:['Коммунальные услуги (расходы прошлых лет)','Коммунальные услуги (расходы прошлых лет)','Расходы на коммунальные услуги (расходы прошлых лет)','Другие расходы прошлых лет, выявленные в текущем году.','Другие расходы прошлых лет, выявленные в текущем году.'],\n",
    "            5:['Газ','Оплата потребления газа','Расходы по оплате потребления газа','Оплата потребления газа по тарифам']}\n",
    "\n",
    "def get_type_of_es(row):\n",
    "    values_to_check = row[['code_discription', 'address_raw']]\n",
    "    for key, values in all_es_types.items():\n",
    "        if any(value.lower() in ' '.join(values_to_check.values).lower() for value in values):\n",
    "            return key\n",
    "    return None\n",
    "\n",
    "#Usage: df['es_code_int'] = df.apply(get_type_of_es, axis=1)"
   ]
  },
  {
   "cell_type": "code",
   "execution_count": 4,
   "metadata": {},
   "outputs": [
    {
     "name": "stdout",
     "output_type": "stream",
     "text": [
      "2016.xlsx\n"
     ]
    },
    {
     "name": "stderr",
     "output_type": "stream",
     "text": [
      "C:\\Users\\Anty\\AppData\\Local\\Temp\\ipykernel_27552\\160124544.py:14: UserWarning: Could not infer format, so each element will be parsed individually, falling back to `dateutil`. To ensure parsing is consistent and as-expected, please specify a format.\n",
      "  df[11] = pd.to_datetime(df[11], errors='coerce')\n"
     ]
    },
    {
     "name": "stdout",
     "output_type": "stream",
     "text": [
      "2017.xlsx\n"
     ]
    },
    {
     "name": "stderr",
     "output_type": "stream",
     "text": [
      "C:\\Users\\Anty\\AppData\\Local\\Temp\\ipykernel_27552\\160124544.py:14: UserWarning: Could not infer format, so each element will be parsed individually, falling back to `dateutil`. To ensure parsing is consistent and as-expected, please specify a format.\n",
      "  df[11] = pd.to_datetime(df[11], errors='coerce')\n"
     ]
    },
    {
     "name": "stdout",
     "output_type": "stream",
     "text": [
      "2018.xlsx\n"
     ]
    },
    {
     "name": "stderr",
     "output_type": "stream",
     "text": [
      "C:\\Users\\Anty\\AppData\\Local\\Temp\\ipykernel_27552\\160124544.py:14: UserWarning: Could not infer format, so each element will be parsed individually, falling back to `dateutil`. To ensure parsing is consistent and as-expected, please specify a format.\n",
      "  df[11] = pd.to_datetime(df[11], errors='coerce')\n"
     ]
    },
    {
     "name": "stdout",
     "output_type": "stream",
     "text": [
      "2019.xlsx\n"
     ]
    },
    {
     "name": "stderr",
     "output_type": "stream",
     "text": [
      "C:\\Users\\Anty\\AppData\\Local\\Temp\\ipykernel_27552\\160124544.py:14: UserWarning: Could not infer format, so each element will be parsed individually, falling back to `dateutil`. To ensure parsing is consistent and as-expected, please specify a format.\n",
      "  df[11] = pd.to_datetime(df[11], errors='coerce')\n"
     ]
    },
    {
     "name": "stdout",
     "output_type": "stream",
     "text": [
      "2020_new_base.xlsx\n"
     ]
    },
    {
     "name": "stderr",
     "output_type": "stream",
     "text": [
      "C:\\Users\\Anty\\AppData\\Local\\Temp\\ipykernel_27552\\160124544.py:14: UserWarning: Could not infer format, so each element will be parsed individually, falling back to `dateutil`. To ensure parsing is consistent and as-expected, please specify a format.\n",
      "  df[11] = pd.to_datetime(df[11], errors='coerce')\n"
     ]
    },
    {
     "name": "stdout",
     "output_type": "stream",
     "text": [
      "2020_old_base.xlsx\n"
     ]
    },
    {
     "name": "stderr",
     "output_type": "stream",
     "text": [
      "C:\\Users\\Anty\\AppData\\Local\\Temp\\ipykernel_27552\\160124544.py:14: UserWarning: Could not infer format, so each element will be parsed individually, falling back to `dateutil`. To ensure parsing is consistent and as-expected, please specify a format.\n",
      "  df[11] = pd.to_datetime(df[11], errors='coerce')\n"
     ]
    },
    {
     "name": "stdout",
     "output_type": "stream",
     "text": [
      "2021.xlsx\n"
     ]
    },
    {
     "name": "stderr",
     "output_type": "stream",
     "text": [
      "C:\\Users\\Anty\\AppData\\Local\\Temp\\ipykernel_27552\\160124544.py:14: UserWarning: Could not infer format, so each element will be parsed individually, falling back to `dateutil`. To ensure parsing is consistent and as-expected, please specify a format.\n",
      "  df[11] = pd.to_datetime(df[11], errors='coerce')\n"
     ]
    }
   ],
   "source": [
    "# Указать путь к папке, содержащей файлы .xlsx\n",
    "folder_path = './raw_data/train_data/Expenses'\n",
    "\n",
    "# Список для хранения pandas DataFrame\n",
    "dataframes = []\n",
    "\n",
    "# Чтение файлов .xlsx в указанной папке\n",
    "for file_name in os.listdir(folder_path):\n",
    "    if file_name.endswith('.xlsx') and file_name.startswith(('1', '2')):\n",
    "        file_path = os.path.join(folder_path, file_name)\n",
    "        print(file_name)\n",
    "        # Чтение файла в DataFrame\n",
    "        df = pd.read_excel(file_path, header=None)\n",
    "        df[11] = pd.to_datetime(df[11], errors='coerce')\n",
    "        df.dropna(subset=[11], inplace=True)\n",
    "        df.reset_index(drop=True, inplace=True)\n",
    "        # Добавление DataFrame в список\n",
    "        \n",
    "        df[11] = pd.to_datetime(df[11])\n",
    "        df['formatted_date'] = df[11].dt.strftime('%m.%Y')\n",
    "        df.drop(columns=[0,1,5,8,10], inplace=True)\n",
    "        df.columns = ['smeta','distr', 'code','code_discription','address_raw','cost','full_date','data_short' ]\n",
    "        df = df.replace(r'\\s+',' ',regex=True)\n",
    "        df['es_code_int'] = df.apply(get_type_of_es, axis=1)\n",
    "        df.to_excel('./data/'+file_name, index=False)\n",
    "\n"
   ]
  },
  {
   "cell_type": "code",
   "execution_count": 5,
   "metadata": {},
   "outputs": [],
   "source": [
    "def remove_value(row, remove_this_col_num, remove_from_this_col_num, additional_str_value=''):\n",
    "    r = row[remove_from_this_col_num].replace(additional_str_value+str(row[remove_this_col_num]), '')\n",
    "    return r"
   ]
  },
  {
   "cell_type": "code",
   "execution_count": 6,
   "metadata": {},
   "outputs": [],
   "source": [
    "def to_lower(listin):\n",
    "    return [str(element).lower() for element in listin]\n",
    "\n",
    "citys = pd.read_excel('./extra/np-dvfo.xlsx', header=None)[0].to_list()\n",
    "streets = pd.read_excel('./extra/names-dvfo.xlsx', header=None)[0].to_list()\n",
    "numbers = [str(i) for i in range(1, 1000)]\n",
    "citys = to_lower(citys)\n",
    "streets = to_lower(streets)\n",
    "numbers = to_lower(numbers)\n"
   ]
  },
  {
   "cell_type": "code",
   "execution_count": 7,
   "metadata": {},
   "outputs": [],
   "source": [
    "import re\n",
    "folder_path = './data/'\n",
    "# Чтение файлов .xlsx в указанной папке\n",
    "for file_name in os.listdir(folder_path):\n",
    "    if file_name.endswith('.xlsx') and file_name.startswith(('1', '2')):\n",
    "        file_path = os.path.join(folder_path, file_name)\n",
    "        \n",
    "        # Чтение файла в DataFrame\n",
    "        df = pd.read_excel(file_path)\n",
    "        df['address_clean'] = df.apply(remove_value, remove_this_col_num='code', remove_from_this_col_num='address_raw', additional_str_value='ст. ', axis=1)\n",
    "        df['address_clean'] = df.apply(remove_value, remove_this_col_num='code', remove_from_this_col_num='address_clean', additional_str_value='ст.', axis=1)\n",
    "        df['address_clean'] = df.apply(remove_value, remove_this_col_num='code', remove_from_this_col_num='address_clean', axis=1)\n",
    "        df['address_clean'] = df['address_clean'].str.lower()\n",
    "        stoplist = [\n",
    "        'оплата потребления электроэнергии',\n",
    "        'оплата потребления тепловой энергии',\n",
    "        'горячее водоснабжение',\n",
    "        'затраты на ',\n",
    "        'оплата водоотведения',\n",
    "        'холодное водоснабжение ',\n",
    "        'оплата холодного водоснабжения',\n",
    "        'оплата горячего водоснабжения',\n",
    "        'оплата водоснабжения',\n",
    "        'канализации',\n",
    "        'горячая вода',\n",
    "        'холодная вода',\n",
    "        'оплата за',\n",
    "        'прошлого года',\n",
    "        'водоснабжения','водоотведения','водоотведение','водоснабжение','электроэнергии', 'горячее','горячего','вода','затраты на', 'холодного','холодное','горячая','холодная','энергии', 'оплата', '.оплата',\n",
    "        'канализацию ', 'канализация ',\n",
    "        'потребления','потребление','тепловой','газа', 'электроэнерги',\n",
    "        'тепловую энергию по тарифам ',\n",
    "        'по тарифам', 'тепловую энергию',\n",
    "        'дизельное топливо', 'эектроэнергию ',\n",
    "        'по тприфам', 'оплат за', 'обслуживание (услуги)',\n",
    "        'плата за технологическое присоединение к электрическим сетям', 'плата за технологическое присоединение к электрическим сетям (в случаях, не связанным со строительством,реконстр. и кап.ремонтом г.ленск ст. 134.1100',\n",
    "        'расходы по оплате', 'расходы по приобретению', 'дизельного', 'топлива', 'отопление',\n",
    "    ]\n",
    "        for w in stoplist:\n",
    "            df['address_clean'] = df.apply(remove_str, remove_from_this_col_num='address_clean', str_value=w, axis=1)\n",
    "        df['test']=df['address_clean']\n",
    "        #df['test2']=df['col2'].str[-30:] +df['address_clean']\n",
    "        df['test'] = df['test'].apply(lambda x: re.sub(r'[^\\w\\s]', ' ', x))\n",
    "\n",
    "        # Шаг 2: Оставить только слова и последовательности цифр не длинее 3 знаков подряд\n",
    "        #df['test'] = df['test'].apply(lambda x: re.sub(r'\\b(?:\\d{1,3}|\\w{1,})\\b', ' ', x))\n",
    "\n",
    "        # Шаг 3: Оставить только те слова, которые лежат в одном из двух списков: cities, streets\n",
    "        df['test'] = df['test'].apply(lambda x: ' '.join(word for word in x.split() if word in citys or word in streets or word in numbers))\n",
    "        df.to_excel('./data3/es/'+file_name, index=False)"
   ]
  }
 ],
 "metadata": {
  "kernelspec": {
   "display_name": ".venv",
   "language": "python",
   "name": "python3"
  },
  "language_info": {
   "codemirror_mode": {
    "name": "ipython",
    "version": 3
   },
   "file_extension": ".py",
   "mimetype": "text/x-python",
   "name": "python",
   "nbconvert_exporter": "python",
   "pygments_lexer": "ipython3",
   "version": "3.10.0"
  }
 },
 "nbformat": 4,
 "nbformat_minor": 2
}
