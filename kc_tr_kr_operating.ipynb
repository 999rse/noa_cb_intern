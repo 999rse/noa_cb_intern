{
 "cells": [
  {
   "cell_type": "code",
   "execution_count": null,
   "metadata": {},
   "outputs": [],
   "source": [
    "import pandas as pd\n",
    "import re"
   ]
  },
  {
   "cell_type": "markdown",
   "metadata": {},
   "source": [
    "# KR operations"
   ]
  },
  {
   "cell_type": "code",
   "execution_count": null,
   "metadata": {},
   "outputs": [],
   "source": [
    "def extract_locality_and_street(input_string):\n",
    "    # Список подстрок, которые могут предшествовать названию населенного пункта\n",
    "    prefixes = [\"г.\", \"г \", \"с.\", \"с \", \"кп \", \"к.п.\", \"Город\", \"город\"]\n",
    "    locality_keyword = \"по адресу:\"\n",
    "\n",
    "    # Начальные значения для города и улицы\n",
    "    locality = \"\"\n",
    "    street = input_string\n",
    "\n",
    "    locality_index = input_string.find(locality_keyword)\n",
    "    input_string = input_string[locality_index:]\n",
    "\n",
    "    # Поиск подстроки-префикса\n",
    "    for prefix in prefixes:\n",
    "        index = input_string.find(prefix)\n",
    "        if index != -1:\n",
    "            comma_index = input_string.find(',', index)\n",
    "            locality = input_string[index:comma_index].strip()\n",
    "            street_start = comma_index + 1\n",
    "            street = input_string[street_start:].strip()\n",
    "            break\n",
    "\n",
    "    return locality, street"
   ]
  },
  {
   "cell_type": "code",
   "execution_count": null,
   "metadata": {},
   "outputs": [],
   "source": [
    "KR_files = [\"KR on 01.01.2017 unprotected.xlsx\", \"KR on 01.01.2018 unprotected.xlsx\", \"KR on 01.01.2019 unprotected.xlsx\"]\n",
    "\n",
    "results = []\n",
    "\n",
    "for KR_file in KR_files:\n",
    "    filexlsx = pd.read_excel(\"train_data/KC_TR_KR/\"+KR_file, skiprows=5) # Skip header\n",
    "\n",
    "    columns_to_drop = [0, 2, 4, 6, 7, 10]\n",
    "    filexlsx = filexlsx.drop(filexlsx.columns[columns_to_drop], axis=1)\n",
    "\n",
    "    new_column_names = [\"name\", \"estimated_cost\", \"approved_year_start\", \"used_year_end\", \"expected_year_end\"]\n",
    "    filexlsx.columns = new_column_names\n",
    "\n",
    "    target_line_startswith = [\"Выборочный\", \"Капитальный\", \"Новый\", \"Ремонт\"]\n",
    "    filtered_rows = filexlsx[filexlsx['name'].apply(lambda x: str(x).startswith(tuple(target_line_startswith)) if pd.notna(x) else False)]\n",
    "\n",
    "    filtered_rows[['locality', 'street']] = filtered_rows['name'].apply(lambda x: pd.Series(extract_locality_and_street(x)))\n",
    "\n",
    "    results.append(filtered_rows)"
   ]
  },
  {
   "cell_type": "code",
   "execution_count": null,
   "metadata": {},
   "outputs": [],
   "source": [
    "results[0]"
   ]
  },
  {
   "cell_type": "code",
   "execution_count": null,
   "metadata": {},
   "outputs": [],
   "source": [
    "results[1]"
   ]
  },
  {
   "cell_type": "code",
   "execution_count": null,
   "metadata": {},
   "outputs": [],
   "source": [
    "results[2]"
   ]
  },
  {
   "cell_type": "markdown",
   "metadata": {},
   "source": [
    "# New version sheets"
   ]
  },
  {
   "cell_type": "code",
   "execution_count": null,
   "metadata": {},
   "outputs": [],
   "source": [
    "KR_files = [\"KR on 01.01.2020.xlsx\", \"KR on 01.01.2021.xlsx\", \"KR on 01.01.2022.xlsx\"]\n",
    "\n",
    "for KR_file in KR_files:\n",
    "    filexlsx = pd.read_excel(\"train_data/KC_TR_KR/\"+KR_file, skiprows=2) # Skip header\n",
    "\n",
    "    columns_to_drop = [0, 2, 4, 5, 7, 9, 10, 12, 13, 14, 15, 16, 17]\n",
    "    filexlsx = filexlsx.drop(filexlsx.columns[columns_to_drop], axis=1)\n",
    "\n",
    "    new_column_names = [\"name\", \"estimated_cost\", \"approved_year_start\", \"used_year_end\", \"expected_year_end\"]\n",
    "    filexlsx.columns = new_column_names\n",
    "\n",
    "    ### Old version sheets were in thousands roubles \n",
    "    columns_to_divide = ['estimated_cost', 'approved_year_start', 'used_year_end', 'expected_year_end']\n",
    "    # Convert the specified columns to numeric type\n",
    "    filexlsx[columns_to_divide] = filexlsx[columns_to_divide].apply(pd.to_numeric, errors='coerce')\n",
    "    # Divide\n",
    "    filexlsx[columns_to_divide] = filexlsx[columns_to_divide].div(1000)\n",
    "    # Round the numeric values to two decimal places\n",
    "    filexlsx[columns_to_divide] = filexlsx[columns_to_divide].round(2)\n",
    "    # Convert the columns back to string type\n",
    "    filexlsx[columns_to_divide] = filexlsx[columns_to_divide].astype(str)\n",
    "\n",
    "    target_line_startswith = [\"Выборочный\", \"Капитальный\", \"Новый\", \"Ремонт\"]\n",
    "    filtered_rows = filexlsx[filexlsx['name'].apply(lambda x: str(x).startswith(tuple(target_line_startswith)) if pd.notna(x) else False)]\n",
    "\n",
    "    filtered_rows[['locality', 'street']] = filtered_rows['name'].apply(lambda x: pd.Series(extract_locality_and_street(x)))\n",
    "\n",
    "    results.append(filtered_rows)\n"
   ]
  },
  {
   "cell_type": "code",
   "execution_count": null,
   "metadata": {},
   "outputs": [],
   "source": [
    "results[3]"
   ]
  },
  {
   "cell_type": "code",
   "execution_count": null,
   "metadata": {},
   "outputs": [],
   "source": [
    "results[4]"
   ]
  },
  {
   "cell_type": "code",
   "execution_count": null,
   "metadata": {},
   "outputs": [],
   "source": [
    "results[5]"
   ]
  }
 ],
 "metadata": {
  "kernelspec": {
   "display_name": "Python 3",
   "language": "python",
   "name": "python3"
  },
  "language_info": {
   "codemirror_mode": {
    "name": "ipython",
    "version": 3
   },
   "file_extension": ".py",
   "mimetype": "text/x-python",
   "name": "python",
   "nbconvert_exporter": "python",
   "pygments_lexer": "ipython3",
   "version": "3.11.5"
  }
 },
 "nbformat": 4,
 "nbformat_minor": 2
}
